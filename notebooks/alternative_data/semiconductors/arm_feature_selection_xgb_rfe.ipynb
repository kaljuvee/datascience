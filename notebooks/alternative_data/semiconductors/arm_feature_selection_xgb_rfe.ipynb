{
 "cells": [
  {
   "cell_type": "code",
   "execution_count": 1,
   "metadata": {
    "colab": {
     "base_uri": "https://localhost:8080/",
     "height": 35
    },
    "colab_type": "code",
    "id": "RcpGGg9I8o8a",
    "outputId": "49981221-1330-4a12-a663-159e67c90497"
   },
   "outputs": [
    {
     "name": "stdout",
     "output_type": "stream",
     "text": [
      "Collecting sklearn\n",
      "  Downloading https://files.pythonhosted.org/packages/1e/7a/dbb3be0ce9bd5c8b7e3d87328e79063f8b263b2b1bfa4774cb1147bfcd3f/sklearn-0.0.tar.gz\n",
      "Requirement already satisfied, skipping upgrade: scikit-learn in c:\\users\\kalju\\appdata\\local\\programs\\python\\python38\\lib\\site-packages (from sklearn) (0.22.1)\n",
      "Requirement already satisfied, skipping upgrade: joblib>=0.11 in c:\\users\\kalju\\appdata\\local\\programs\\python\\python38\\lib\\site-packages (from scikit-learn->sklearn) (0.14.1)\n",
      "Requirement already satisfied, skipping upgrade: scipy>=0.17.0 in c:\\users\\kalju\\appdata\\local\\programs\\python\\python38\\lib\\site-packages (from scikit-learn->sklearn) (1.4.1)\n",
      "Requirement already satisfied, skipping upgrade: numpy>=1.11.0 in c:\\users\\kalju\\appdata\\local\\programs\\python\\python38\\lib\\site-packages (from scikit-learn->sklearn) (1.18.4)\n",
      "Installing collected packages: sklearn\n",
      "  Running setup.py install for sklearn: started\n",
      "    Running setup.py install for sklearn: finished with status 'done'\n",
      "Successfully installed sklearn-0.0\n"
     ]
    },
    {
     "name": "stderr",
     "output_type": "stream",
     "text": [
      "ERROR: Error checking for conflicts.\n",
      "Traceback (most recent call last):\n",
      "  File \"c:\\users\\kalju\\appdata\\local\\programs\\python\\python38\\lib\\site-packages\\pip\\_vendor\\pkg_resources\\__init__.py\", line 3012, in _dep_map\n",
      "    return self.__dep_map\n",
      "  File \"c:\\users\\kalju\\appdata\\local\\programs\\python\\python38\\lib\\site-packages\\pip\\_vendor\\pkg_resources\\__init__.py\", line 2806, in __getattr__\n",
      "    raise AttributeError(attr)\n",
      "AttributeError: _DistInfoDistribution__dep_map\n",
      "\n",
      "During handling of the above exception, another exception occurred:\n",
      "\n",
      "Traceback (most recent call last):\n",
      "  File \"c:\\users\\kalju\\appdata\\local\\programs\\python\\python38\\lib\\site-packages\\pip\\_vendor\\pkg_resources\\__init__.py\", line 3003, in _parsed_pkg_info\n",
      "    return self._pkg_info\n",
      "  File \"c:\\users\\kalju\\appdata\\local\\programs\\python\\python38\\lib\\site-packages\\pip\\_vendor\\pkg_resources\\__init__.py\", line 2806, in __getattr__\n",
      "    raise AttributeError(attr)\n",
      "AttributeError: _pkg_info\n",
      "\n",
      "During handling of the above exception, another exception occurred:\n",
      "\n",
      "Traceback (most recent call last):\n",
      "  File \"c:\\users\\kalju\\appdata\\local\\programs\\python\\python38\\lib\\site-packages\\pip\\_internal\\commands\\install.py\", line 517, in _warn_about_conflicts\n",
      "    package_set, _dep_info = check_install_conflicts(to_install)\n",
      "  File \"c:\\users\\kalju\\appdata\\local\\programs\\python\\python38\\lib\\site-packages\\pip\\_internal\\operations\\check.py\", line 110, in check_install_conflicts\n",
      "    package_set, _ = create_package_set_from_installed()\n",
      "  File \"c:\\users\\kalju\\appdata\\local\\programs\\python\\python38\\lib\\site-packages\\pip\\_internal\\operations\\check.py\", line 49, in create_package_set_from_installed\n",
      "    package_set[name] = PackageDetails(dist.version, dist.requires())\n",
      "  File \"c:\\users\\kalju\\appdata\\local\\programs\\python\\python38\\lib\\site-packages\\pip\\_vendor\\pkg_resources\\__init__.py\", line 2727, in requires\n",
      "    dm = self._dep_map\n",
      "  File \"c:\\users\\kalju\\appdata\\local\\programs\\python\\python38\\lib\\site-packages\\pip\\_vendor\\pkg_resources\\__init__.py\", line 3014, in _dep_map\n",
      "    self.__dep_map = self._compute_dependencies()\n",
      "  File \"c:\\users\\kalju\\appdata\\local\\programs\\python\\python38\\lib\\site-packages\\pip\\_vendor\\pkg_resources\\__init__.py\", line 3023, in _compute_dependencies\n",
      "    for req in self._parsed_pkg_info.get_all('Requires-Dist') or []:\n",
      "  File \"c:\\users\\kalju\\appdata\\local\\programs\\python\\python38\\lib\\site-packages\\pip\\_vendor\\pkg_resources\\__init__.py\", line 3005, in _parsed_pkg_info\n",
      "    metadata = self.get_metadata(self.PKG_INFO)\n",
      "  File \"c:\\users\\kalju\\appdata\\local\\programs\\python\\python38\\lib\\site-packages\\pip\\_vendor\\pkg_resources\\__init__.py\", line 1419, in get_metadata\n",
      "    value = self._get(self._fn(self.egg_info, name))\n",
      "  File \"c:\\users\\kalju\\appdata\\local\\programs\\python\\python38\\lib\\site-packages\\pip\\_vendor\\pkg_resources\\__init__.py\", line 1607, in _get\n",
      "    with open(path, 'rb') as stream:\n",
      "FileNotFoundError: [Errno 2] No such file or directory: 'c:\\\\users\\\\kalju\\\\appdata\\\\local\\\\programs\\\\python\\\\python38\\\\lib\\\\site-packages\\\\libsodium-1.0.17.dist-info\\\\METADATA'\n",
      "WARNING: You are using pip version 19.2.3, however version 20.2.2 is available.\n",
      "You should consider upgrading via the 'python -m pip install --upgrade pip' command.\n"
     ]
    },
    {
     "ename": "ImportError",
     "evalue": "cannot import name 'permutation_importance' from 'sklearn.inspection' (C:\\Users\\kalju\\Anaconda3\\lib\\site-packages\\sklearn\\inspection\\__init__.py)",
     "output_type": "error",
     "traceback": [
      "\u001b[1;31m---------------------------------------------------------------------------\u001b[0m",
      "\u001b[1;31mImportError\u001b[0m                               Traceback (most recent call last)",
      "\u001b[1;32m<ipython-input-1-a0e0bea5bd3b>\u001b[0m in \u001b[0;36m<module>\u001b[1;34m\u001b[0m\n\u001b[0;32m      8\u001b[0m \u001b[1;32mfrom\u001b[0m \u001b[0msklearn\u001b[0m\u001b[1;33m.\u001b[0m\u001b[0mneighbors\u001b[0m \u001b[1;32mimport\u001b[0m \u001b[0mKNeighborsRegressor\u001b[0m\u001b[1;33m\u001b[0m\u001b[1;33m\u001b[0m\u001b[0m\n\u001b[0;32m      9\u001b[0m \u001b[1;32mfrom\u001b[0m \u001b[0msklearn\u001b[0m\u001b[1;33m.\u001b[0m\u001b[0mpreprocessing\u001b[0m \u001b[1;32mimport\u001b[0m \u001b[0mMinMaxScaler\u001b[0m\u001b[1;33m\u001b[0m\u001b[1;33m\u001b[0m\u001b[0m\n\u001b[1;32m---> 10\u001b[1;33m \u001b[1;32mfrom\u001b[0m \u001b[0msklearn\u001b[0m\u001b[1;33m.\u001b[0m\u001b[0minspection\u001b[0m \u001b[1;32mimport\u001b[0m \u001b[0mpermutation_importance\u001b[0m\u001b[1;33m\u001b[0m\u001b[1;33m\u001b[0m\u001b[0m\n\u001b[0m\u001b[0;32m     11\u001b[0m \u001b[1;32mfrom\u001b[0m \u001b[0mxgboost\u001b[0m \u001b[1;32mimport\u001b[0m \u001b[0mXGBRegressor\u001b[0m\u001b[1;33m,\u001b[0m \u001b[0mplot_importance\u001b[0m\u001b[1;33m\u001b[0m\u001b[1;33m\u001b[0m\u001b[0m\n\u001b[0;32m     12\u001b[0m \u001b[1;32mfrom\u001b[0m \u001b[0msklearn\u001b[0m\u001b[1;33m.\u001b[0m\u001b[0mpipeline\u001b[0m \u001b[1;32mimport\u001b[0m \u001b[0mPipeline\u001b[0m\u001b[1;33m\u001b[0m\u001b[1;33m\u001b[0m\u001b[0m\n",
      "\u001b[1;31mImportError\u001b[0m: cannot import name 'permutation_importance' from 'sklearn.inspection' (C:\\Users\\kalju\\Anaconda3\\lib\\site-packages\\sklearn\\inspection\\__init__.py)"
     ]
    }
   ],
   "source": [
    "! pip3 install sklearn --upgrade --no-cache-dir\n",
    "from numpy import mean\n",
    "from numpy import std\n",
    "from sklearn.model_selection import cross_val_score\n",
    "from sklearn.model_selection import RepeatedStratifiedKFold\n",
    "from sklearn.feature_selection import RFE\n",
    "from sklearn.ensemble import RandomForestRegressor\n",
    "from sklearn.neighbors import KNeighborsRegressor\n",
    "from sklearn.preprocessing import MinMaxScaler\n",
    "from sklearn.inspection import permutation_importance\n",
    "from xgboost import XGBRegressor, plot_importance\n",
    "from sklearn.pipeline import Pipeline\n",
    "from matplotlib import pyplot\n",
    "import numpy as np\n",
    "import pandas as pd"
   ]
  },
  {
   "cell_type": "code",
   "execution_count": 4,
   "metadata": {
    "colab": {
     "base_uri": "https://localhost:8080/",
     "height": 326
    },
    "colab_type": "code",
    "id": "x0tzvjTo9W9g",
    "outputId": "f204d827-696e-4e9d-9589-5d5cf537d57d"
   },
   "outputs": [
    {
     "ename": "NameError",
     "evalue": "name 'pd' is not defined",
     "output_type": "error",
     "traceback": [
      "\u001b[1;31m---------------------------------------------------------------------------\u001b[0m",
      "\u001b[1;31mNameError\u001b[0m                                 Traceback (most recent call last)",
      "\u001b[1;32m<ipython-input-4-8ae3ce2ee6aa>\u001b[0m in \u001b[0;36m<module>\u001b[1;34m\u001b[0m\n\u001b[1;32m----> 1\u001b[1;33m \u001b[0mrevenue_df\u001b[0m \u001b[1;33m=\u001b[0m \u001b[0mpd\u001b[0m\u001b[1;33m.\u001b[0m\u001b[0mread_csv\u001b[0m\u001b[1;33m(\u001b[0m\u001b[1;34m'data/total_revenues_smartphone_sales_datetime.csv'\u001b[0m\u001b[1;33m)\u001b[0m\u001b[1;33m\u001b[0m\u001b[1;33m\u001b[0m\u001b[0m\n\u001b[0m\u001b[0;32m      2\u001b[0m \u001b[0moutput_scaler\u001b[0m \u001b[1;33m=\u001b[0m \u001b[0mMinMaxScaler\u001b[0m\u001b[1;33m(\u001b[0m\u001b[1;33m)\u001b[0m\u001b[1;33m\u001b[0m\u001b[1;33m\u001b[0m\u001b[0m\n\u001b[0;32m      3\u001b[0m \u001b[0mrevenue_df\u001b[0m\u001b[1;33m[\u001b[0m\u001b[1;34m'total_revenues'\u001b[0m\u001b[1;33m]\u001b[0m \u001b[1;33m=\u001b[0m \u001b[0moutput_scaler\u001b[0m\u001b[1;33m.\u001b[0m\u001b[0mfit_transform\u001b[0m\u001b[1;33m(\u001b[0m\u001b[0mnp\u001b[0m\u001b[1;33m.\u001b[0m\u001b[0marray\u001b[0m\u001b[1;33m(\u001b[0m\u001b[0mrevenue_df\u001b[0m\u001b[1;33m[\u001b[0m\u001b[1;34m'total_revenues'\u001b[0m\u001b[1;33m]\u001b[0m\u001b[1;33m)\u001b[0m\u001b[1;33m.\u001b[0m\u001b[0mreshape\u001b[0m\u001b[1;33m(\u001b[0m\u001b[1;33m-\u001b[0m\u001b[1;36m1\u001b[0m\u001b[1;33m,\u001b[0m \u001b[1;36m1\u001b[0m\u001b[1;33m)\u001b[0m\u001b[1;33m)\u001b[0m\u001b[1;33m\u001b[0m\u001b[1;33m\u001b[0m\u001b[0m\n\u001b[0;32m      4\u001b[0m \u001b[0mrevenue_df\u001b[0m\u001b[1;33m.\u001b[0m\u001b[0mhead\u001b[0m\u001b[1;33m(\u001b[0m\u001b[1;33m)\u001b[0m\u001b[1;33m\u001b[0m\u001b[1;33m\u001b[0m\u001b[0m\n",
      "\u001b[1;31mNameError\u001b[0m: name 'pd' is not defined"
     ]
    }
   ],
   "source": [
    "revenue_df = pd.read_csv('data/total_revenues_smartphone_sales_datetime.csv')\n",
    "output_scaler = MinMaxScaler()\n",
    "revenue_df['total_revenues'] = output_scaler.fit_transform(np.array(revenue_df['total_revenues']).reshape(-1, 1))\n",
    "revenue_df.head()"
   ]
  },
  {
   "cell_type": "markdown",
   "metadata": {
    "colab_type": "text",
    "id": "E_2b7Tipieyj"
   },
   "source": [
    "- Use XBGRegressor model (similar to Random Forrest)\n",
    "- Updates weights at run time\n",
    "- Feature impmportance will be given based on XBGRegressor model only"
   ]
  },
  {
   "cell_type": "code",
   "execution_count": null,
   "metadata": {
    "colab": {
     "base_uri": "https://localhost:8080/",
     "height": 330
    },
    "colab_type": "code",
    "id": "t_gN_RUj_paz",
    "outputId": "29993812-7e47-466b-a870-aba2a6c47e74"
   },
   "outputs": [
    {
     "name": "stdout",
     "output_type": "stream",
     "text": [
      "[10:12:59] WARNING: /workspace/src/objective/regression_obj.cu:152: reg:linear is now deprecated in favor of reg:squarederror.\n"
     ]
    },
    {
     "data": {
      "text/plain": [
       "<matplotlib.axes._subplots.AxesSubplot at 0x7f972991c048>"
      ]
     },
     "execution_count": 5,
     "metadata": {
      "tags": []
     },
     "output_type": "execute_result"
    },
    {
     "data": {
      "image/png": "[encoded data removed]",
      "text/plain": [
       "<Figure size 432x288 with 1 Axes>"
      ]
     },
     "metadata": {
      "needs_background": "light",
      "tags": []
     },
     "output_type": "display_data"
    }
   ],
   "source": [
    "model_xgb = XGBRegressor()\n",
    "# fit the model\n",
    "model_xgb.fit(revenue_df.drop(['total_revenues', 'Month'], axis=1), revenue_df['total_revenues'])\n",
    "# get importance\n",
    "plot_importance(model_xgb)"
   ]
  },
  {
   "cell_type": "markdown",
   "metadata": {
    "colab_type": "text",
    "id": "s83ESkDgibs8"
   },
   "source": [
    "Alcatel, Gionee, Apple, Tecno, Oppo and Huawei top 5"
   ]
  },
  {
   "cell_type": "markdown",
   "metadata": {
    "colab_type": "text",
    "id": "cJ2LWw_IiNHr"
   },
   "source": [
    "*  **Permutation Feature Importance for Regression**\n",
    "* [Sklearen Permutation Importance](https://scikit-learn.org/stable/modules/generated/sklearn.inspection.permutation_importance.html)"
   ]
  },
  {
   "cell_type": "code",
   "execution_count": null,
   "metadata": {
    "colab": {
     "base_uri": "https://localhost:8080/",
     "height": 785
    },
    "colab_type": "code",
    "id": "J4BIGutth-gI",
    "outputId": "bd1ac716-abd4-4ccc-9fe4-dcb7a37141b5"
   },
   "outputs": [
    {
     "name": "stdout",
     "output_type": "stream",
     "text": [
      "Feature: 0, Score: 0.00529\n",
      "Feature: 1, Score: 0.00197\n",
      "Feature: 2, Score: 0.00001\n",
      "Feature: 3, Score: 0.00186\n",
      "Feature: 4, Score: 0.00002\n",
      "Feature: 5, Score: 0.00013\n",
      "Feature: 6, Score: 0.00283\n",
      "Feature: 7, Score: 0.00000\n",
      "Feature: 8, Score: 0.00000\n",
      "Feature: 9, Score: 0.01842\n",
      "Feature: 10, Score: 0.00160\n",
      "Feature: 11, Score: 0.00006\n",
      "Feature: 12, Score: 0.00011\n",
      "Feature: 13, Score: 0.00000\n",
      "Feature: 14, Score: 0.00014\n",
      "Feature: 15, Score: 0.00005\n",
      "Feature: 16, Score: 0.00000\n",
      "Feature: 17, Score: 0.00088\n",
      "Feature: 18, Score: 0.00013\n",
      "Feature: 19, Score: 0.00000\n",
      "Feature: 20, Score: 0.00141\n",
      "Feature: 21, Score: 0.00011\n",
      "Feature: 22, Score: 0.00000\n",
      "Feature: 23, Score: 0.00001\n",
      "Feature: 24, Score: 0.00642\n",
      "Feature: 25, Score: 0.00000\n",
      "Feature: 26, Score: 0.00000\n",
      "Feature: 27, Score: 0.00000\n",
      "Feature: 28, Score: 0.00005\n",
      "Feature: 29, Score: 0.00000\n"
     ]
    },
    {
     "data": {
      "image/png": "[encoded data removed]",
      "text/plain": [
       "<Figure size 432x288 with 1 Axes>"
      ]
     },
     "metadata": {
      "needs_background": "light",
      "tags": []
     },
     "output_type": "display_data"
    }
   ],
   "source": [
    "# fit the model\n",
    "#model_xgb.fit(revenue_df.drop(['total_revenues', 'Month'], axis=1), revenue_df['total_revenues'])\n",
    "# perform permutation importance\n",
    "results = permutation_importance(model_xgb, revenue_df.drop(['total_revenues', 'Month'], axis=1), revenue_df['total_revenues'], scoring='neg_mean_squared_error')\n",
    "# get importance\n",
    "importance = results.importances_mean\n",
    "# summarize feature importance\n",
    "for i,v in enumerate(importance):\n",
    "\tprint('Feature: %0d, Score: %.5f' % (i,v))\n",
    "# plot feature importance\n",
    "pyplot.bar([x for x in range(len(importance))], importance)\n",
    "pyplot.show()"
   ]
  },
  {
   "cell_type": "markdown",
   "metadata": {
    "colab_type": "text",
    "id": "x1oGOKcvkLcP"
   },
   "source": [
    "**Conclusion - Feature 9 (Huawei) most important using using permutation feature importance method**"
   ]
  },
  {
   "cell_type": "markdown",
   "metadata": {
    "colab_type": "text",
    "id": "nRrs82KolPsU"
   },
   "source": [
    "# Recursive Feature Elmination (RFE)\n",
    "\n",
    "* [SKE Learn RFE](https://scikit-learn.org/stable/modules/generated/sklearn.feature_selection.RFE.html)"
   ]
  },
  {
   "cell_type": "code",
   "execution_count": 6,
   "metadata": {
    "colab": {
     "base_uri": "https://localhost:8080/",
     "height": 493
    },
    "colab_type": "code",
    "id": "QsXksxy7ipFz",
    "outputId": "cd65d8c2-6d9e-44a9-e0d2-e6e446aca641"
   },
   "outputs": [
    {
     "ename": "NameError",
     "evalue": "name 'XGBRegressor' is not defined",
     "output_type": "error",
     "traceback": [
      "\u001b[1;31m---------------------------------------------------------------------------\u001b[0m",
      "\u001b[1;31mNameError\u001b[0m                                 Traceback (most recent call last)",
      "\u001b[1;32m<ipython-input-6-50ed0b17da07>\u001b[0m in \u001b[0;36m<module>\u001b[1;34m\u001b[0m\n\u001b[1;32m----> 1\u001b[1;33m \u001b[0mmodel_xgb_rfe\u001b[0m \u001b[1;33m=\u001b[0m \u001b[0mXGBRegressor\u001b[0m\u001b[1;33m(\u001b[0m\u001b[1;33m)\u001b[0m\u001b[1;33m\u001b[0m\u001b[1;33m\u001b[0m\u001b[0m\n\u001b[0m\u001b[0;32m      2\u001b[0m \u001b[1;31m# fit the model, target pick only 3 features\u001b[0m\u001b[1;33m\u001b[0m\u001b[1;33m\u001b[0m\u001b[1;33m\u001b[0m\u001b[0m\n\u001b[0;32m      3\u001b[0m \u001b[0mrfe\u001b[0m \u001b[1;33m=\u001b[0m \u001b[0mRFE\u001b[0m\u001b[1;33m(\u001b[0m\u001b[0mmodel_xgb_rfe\u001b[0m\u001b[1;33m,\u001b[0m \u001b[1;36m5\u001b[0m\u001b[1;33m)\u001b[0m\u001b[1;33m\u001b[0m\u001b[1;33m\u001b[0m\u001b[0m\n\u001b[0;32m      4\u001b[0m \u001b[0mrfe\u001b[0m \u001b[1;33m=\u001b[0m \u001b[0mrfe\u001b[0m\u001b[1;33m.\u001b[0m\u001b[0mfit\u001b[0m\u001b[1;33m(\u001b[0m\u001b[0mrevenue_df\u001b[0m\u001b[1;33m.\u001b[0m\u001b[0mdrop\u001b[0m\u001b[1;33m(\u001b[0m\u001b[1;33m[\u001b[0m\u001b[1;34m'total_revenues'\u001b[0m\u001b[1;33m,\u001b[0m \u001b[1;34m'Month'\u001b[0m\u001b[1;33m]\u001b[0m\u001b[1;33m,\u001b[0m \u001b[0maxis\u001b[0m\u001b[1;33m=\u001b[0m\u001b[1;36m1\u001b[0m\u001b[1;33m)\u001b[0m\u001b[1;33m,\u001b[0m \u001b[0mrevenue_df\u001b[0m\u001b[1;33m[\u001b[0m\u001b[1;34m'total_revenues'\u001b[0m\u001b[1;33m]\u001b[0m\u001b[1;33m)\u001b[0m\u001b[1;33m\u001b[0m\u001b[1;33m\u001b[0m\u001b[0m\n",
      "\u001b[1;31mNameError\u001b[0m: name 'XGBRegressor' is not defined"
     ]
    }
   ],
   "source": [
    "model_xgb_rfe = XGBRegressor()\n",
    "# fit the model, target pick only 3 features\n",
    "rfe = RFE(model_xgb_rfe, 5)\n",
    "rfe = rfe.fit(revenue_df.drop(['total_revenues', 'Month'], axis=1), revenue_df['total_revenues'])"
   ]
  },
  {
   "cell_type": "code",
   "execution_count": 7,
   "metadata": {
    "colab": {
     "base_uri": "https://localhost:8080/",
     "height": 102
    },
    "colab_type": "code",
    "id": "Uq451w8jPtk3",
    "outputId": "bd5280c9-2271-4c23-d9d4-a125ceae29c7"
   },
   "outputs": [
    {
     "ename": "NameError",
     "evalue": "name 'rfe' is not defined",
     "output_type": "error",
     "traceback": [
      "\u001b[1;31m---------------------------------------------------------------------------\u001b[0m",
      "\u001b[1;31mNameError\u001b[0m                                 Traceback (most recent call last)",
      "\u001b[1;32m<ipython-input-7-31c774d00a82>\u001b[0m in \u001b[0;36m<module>\u001b[1;34m\u001b[0m\n\u001b[1;32m----> 1\u001b[1;33m \u001b[0mprint\u001b[0m\u001b[1;33m(\u001b[0m\u001b[0mrfe\u001b[0m\u001b[1;33m.\u001b[0m\u001b[0msupport_\u001b[0m\u001b[1;33m)\u001b[0m\u001b[1;33m\u001b[0m\u001b[1;33m\u001b[0m\u001b[0m\n\u001b[0m\u001b[0;32m      2\u001b[0m \u001b[0mprint\u001b[0m\u001b[1;33m(\u001b[0m\u001b[0mrfe\u001b[0m\u001b[1;33m.\u001b[0m\u001b[0mranking_\u001b[0m\u001b[1;33m)\u001b[0m\u001b[1;33m\u001b[0m\u001b[1;33m\u001b[0m\u001b[0m\n",
      "\u001b[1;31mNameError\u001b[0m: name 'rfe' is not defined"
     ]
    }
   ],
   "source": [
    "print(rfe.support_)\n",
    "print(rfe.ranking_)"
   ]
  },
  {
   "cell_type": "markdown",
   "metadata": {
    "colab_type": "text",
    "id": "eg581rugmfMV"
   },
   "source": [
    "**Conclusion:**\n",
    "* Features 9 (Huawei), 10 and 24 (Samsung) most important, seems to agree with Permutation \n",
    "Method above"
   ]
  }
 ],
 "metadata": {
  "colab": {
   "collapsed_sections": [],
   "name": "arm_feature_selection_xgb_rfe",
   "provenance": []
  },
  "kernelspec": {
   "display_name": "Python 3",
   "language": "python",
   "name": "python3"
  },
  "language_info": {
   "codemirror_mode": {
    "name": "ipython",
    "version": 3
   },
   "file_extension": ".py",
   "mimetype": "text/x-python",
   "name": "python",
   "nbconvert_exporter": "python",
   "pygments_lexer": "ipython3",
   "version": "3.7.4"
  }
 },
 "nbformat": 4,
 "nbformat_minor": 1
}

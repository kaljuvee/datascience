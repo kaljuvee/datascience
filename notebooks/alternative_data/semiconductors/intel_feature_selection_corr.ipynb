{
 "cells": [
  {
   "cell_type": "markdown",
   "metadata": {
    "colab_type": "text",
    "id": "view-in-github"
   },
   "source": [
    "<a href=\"https://colab.research.google.com/github/kaljuvee/datascience/blob/master/notebooks/stats/regression_feature_selection.ipynb\" target=\"_parent\"><img src=\"https://colab.research.google.com/assets/colab-badge.svg\" alt=\"Open In Colab\"/></a>"
   ]
  },
  {
   "cell_type": "code",
   "execution_count": 1,
   "metadata": {
    "colab": {
     "base_uri": "https://localhost:8080/",
     "height": 35
    },
    "colab_type": "code",
    "id": "6NSRSE_SLz9m",
    "outputId": "6756f3fe-af47-49f6-a1fd-914ae9fc133c"
   },
   "outputs": [],
   "source": [
    "import statsmodels.api as sm\n",
    "import numpy as np \n",
    "from sklearn.preprocessing import MinMaxScaler\n",
    "from sklearn.linear_model import LinearRegression\n",
    "from sklearn.metrics import r2_score\n",
    "from sklearn.datasets import make_regression\n",
    "import pandas as pd"
   ]
  },
  {
   "cell_type": "markdown",
   "metadata": {
    "colab_type": "text",
    "id": "NEykllYZMT9Y"
   },
   "source": [
    "**Background**\n",
    "\n",
    "The simplest case of feature selection is the case where there are numerical input variables and a numerical target for regression predictive modeling, and this can often be done with statistical methods **correlation** and **mutual information**.\n",
    "\n",
    "\n",
    "**Overview**\n",
    "\n",
    "We demonstrate the following classical feature selection methods:\n",
    "\n",
    "* **Correlation and mutual information statistics** - evaluate the importance of numerical input data using the correlation \n",
    "and mutual information statistics.\n",
    "* **Numerical feature selection** - perform feature selection for numerical input data when fitting and evaluating a regression model\n",
    "* **Tuning with grid search** -  tune the number of features selected in a modeling pipeline using a grid search\n",
    "\n",
    "**Model Pipeline**\n",
    "\n",
    "1. Load and Convert Regression Dataset\n",
    "2. Numerical Feature Selection\n",
    "  1. Correlation Feature Selection\n",
    "  2. Mutual Information Feature Selection\n",
    "3. Modeling With Selected Features\n",
    "  1. Model Built Using All Features\n",
    "  2. Model Built Using Correlation Features Subset\n",
    "  3. Model Built Using All Mutual Information Features\n",
    "4. Tune the Number of Selected Features - TODO\n",
    "\n",
    "**References**\n",
    "\n",
    "* [Regression Feature Selection](https://machinelearningmastery.com/feature-selection-for-regression-data/)\n",
    "* [scikit-learn](https://scikit-learn.org/)\n"
   ]
  },
  {
   "cell_type": "markdown",
   "metadata": {
    "colab_type": "text",
    "id": "0o24pYMjPlQZ"
   },
   "source": [
    "**1. Load and Normalise Data Sets**"
   ]
  },
  {
   "cell_type": "code",
   "execution_count": 7,
   "metadata": {
    "colab": {
     "base_uri": "https://localhost:8080/",
     "height": 35
    },
    "colab_type": "code",
    "id": "31hln2kU-dYq",
    "outputId": "24f63e1b-1162-49cc-e160-2642ec209575"
   },
   "outputs": [
    {
     "name": "stderr",
     "output_type": "stream",
     "text": [
      "C:\\Users\\kalju\\Anaconda3\\lib\\site-packages\\sklearn\\utils\\validation.py:595: DataConversionWarning: Data with input dtype int64 was converted to float64 by MinMaxScaler.\n",
      "  warnings.warn(msg, DataConversionWarning)\n"
     ]
    },
    {
     "data": {
      "text/plain": [
       "(37, 31)"
      ]
     },
     "execution_count": 7,
     "metadata": {},
     "output_type": "execute_result"
    }
   ],
   "source": [
    "revenue_df = pd.read_csv('data/total_revenues_smartphone_sales_datetime.csv')\n",
    "output_scaler = MinMaxScaler()\n",
    "revenue_df['total_revenues'] = output_scaler.fit_transform(np.array(revenue_df['total_revenues']).reshape(-1, 1))\n",
    "revenue_df.shape\n",
    "# we expect 30 columns, excluding output variable and time index, and 37 quarterly data points"
   ]
  },
  {
   "cell_type": "code",
   "execution_count": 8,
   "metadata": {
    "colab": {
     "base_uri": "https://localhost:8080/",
     "height": 309
    },
    "colab_type": "code",
    "id": "-JRFJMC1DDyu",
    "outputId": "83bdbfcf-74d9-48a9-f9ff-ece54ddbc8aa"
   },
   "outputs": [
    {
     "data": {
      "text/html": [
       "<div>\n",
       "<style scoped>\n",
       "    .dataframe tbody tr th:only-of-type {\n",
       "        vertical-align: middle;\n",
       "    }\n",
       "\n",
       "    .dataframe tbody tr th {\n",
       "        vertical-align: top;\n",
       "    }\n",
       "\n",
       "    .dataframe thead th {\n",
       "        text-align: right;\n",
       "    }\n",
       "</style>\n",
       "<table border=\"1\" class=\"dataframe\">\n",
       "  <thead>\n",
       "    <tr style=\"text-align: right;\">\n",
       "      <th></th>\n",
       "      <th>Month</th>\n",
       "      <th>total_revenues</th>\n",
       "      <th>Alcatel</th>\n",
       "      <th>Apple</th>\n",
       "      <th>Asus</th>\n",
       "      <th>BlackBerry</th>\n",
       "      <th>Coolpad</th>\n",
       "      <th>Fujitsu</th>\n",
       "      <th>Gionee</th>\n",
       "      <th>HMD</th>\n",
       "      <th>...</th>\n",
       "      <th>Panasonic</th>\n",
       "      <th>Pantech</th>\n",
       "      <th>Samsung</th>\n",
       "      <th>Sharp</th>\n",
       "      <th>Sony</th>\n",
       "      <th>Tecno</th>\n",
       "      <th>Vivo</th>\n",
       "      <th>Wiko</th>\n",
       "      <th>Xiaomi</th>\n",
       "      <th>ZTE</th>\n",
       "    </tr>\n",
       "  </thead>\n",
       "  <tbody>\n",
       "    <tr>\n",
       "      <th>0</th>\n",
       "      <td>Mar-11</td>\n",
       "      <td>0.000000</td>\n",
       "      <td>0.02</td>\n",
       "      <td>18.6</td>\n",
       "      <td>0.20</td>\n",
       "      <td>13.8</td>\n",
       "      <td>1.60</td>\n",
       "      <td>1.4</td>\n",
       "      <td>0.7</td>\n",
       "      <td>0.0</td>\n",
       "      <td>...</td>\n",
       "      <td>0.05</td>\n",
       "      <td>0.43</td>\n",
       "      <td>12.5993</td>\n",
       "      <td>1.1</td>\n",
       "      <td>4.0</td>\n",
       "      <td>0.0</td>\n",
       "      <td>0.0</td>\n",
       "      <td>0.0</td>\n",
       "      <td>0.00</td>\n",
       "      <td>1.4</td>\n",
       "    </tr>\n",
       "    <tr>\n",
       "      <th>1</th>\n",
       "      <td>Jun-11</td>\n",
       "      <td>0.023668</td>\n",
       "      <td>0.14</td>\n",
       "      <td>20.3</td>\n",
       "      <td>0.25</td>\n",
       "      <td>12.6</td>\n",
       "      <td>1.80</td>\n",
       "      <td>1.5</td>\n",
       "      <td>1.0</td>\n",
       "      <td>0.0</td>\n",
       "      <td>...</td>\n",
       "      <td>0.05</td>\n",
       "      <td>0.60</td>\n",
       "      <td>20.1985</td>\n",
       "      <td>1.0</td>\n",
       "      <td>4.4</td>\n",
       "      <td>0.0</td>\n",
       "      <td>0.0</td>\n",
       "      <td>0.0</td>\n",
       "      <td>0.00</td>\n",
       "      <td>2.5</td>\n",
       "    </tr>\n",
       "    <tr>\n",
       "      <th>2</th>\n",
       "      <td>Sep-11</td>\n",
       "      <td>0.070400</td>\n",
       "      <td>0.35</td>\n",
       "      <td>17.1</td>\n",
       "      <td>0.25</td>\n",
       "      <td>11.7</td>\n",
       "      <td>2.15</td>\n",
       "      <td>1.2</td>\n",
       "      <td>1.3</td>\n",
       "      <td>0.0</td>\n",
       "      <td>...</td>\n",
       "      <td>0.10</td>\n",
       "      <td>0.85</td>\n",
       "      <td>28.1015</td>\n",
       "      <td>1.2</td>\n",
       "      <td>6.2</td>\n",
       "      <td>0.0</td>\n",
       "      <td>0.0</td>\n",
       "      <td>0.0</td>\n",
       "      <td>0.08</td>\n",
       "      <td>3.6</td>\n",
       "    </tr>\n",
       "    <tr>\n",
       "      <th>3</th>\n",
       "      <td>Dec-11</td>\n",
       "      <td>0.065626</td>\n",
       "      <td>0.55</td>\n",
       "      <td>37.0</td>\n",
       "      <td>0.25</td>\n",
       "      <td>13.4</td>\n",
       "      <td>3.20</td>\n",
       "      <td>1.6</td>\n",
       "      <td>1.7</td>\n",
       "      <td>0.0</td>\n",
       "      <td>...</td>\n",
       "      <td>0.15</td>\n",
       "      <td>1.22</td>\n",
       "      <td>36.5000</td>\n",
       "      <td>1.2</td>\n",
       "      <td>6.4</td>\n",
       "      <td>0.0</td>\n",
       "      <td>0.0</td>\n",
       "      <td>0.0</td>\n",
       "      <td>0.40</td>\n",
       "      <td>5.4</td>\n",
       "    </tr>\n",
       "    <tr>\n",
       "      <th>4</th>\n",
       "      <td>Mar-12</td>\n",
       "      <td>0.078637</td>\n",
       "      <td>0.70</td>\n",
       "      <td>35.1</td>\n",
       "      <td>0.30</td>\n",
       "      <td>9.9</td>\n",
       "      <td>3.80</td>\n",
       "      <td>2.6</td>\n",
       "      <td>1.8</td>\n",
       "      <td>0.0</td>\n",
       "      <td>...</td>\n",
       "      <td>0.20</td>\n",
       "      <td>1.30</td>\n",
       "      <td>44.4000</td>\n",
       "      <td>1.3</td>\n",
       "      <td>5.8</td>\n",
       "      <td>0.0</td>\n",
       "      <td>0.0</td>\n",
       "      <td>0.0</td>\n",
       "      <td>1.20</td>\n",
       "      <td>4.5</td>\n",
       "    </tr>\n",
       "  </tbody>\n",
       "</table>\n",
       "<p>5 rows × 31 columns</p>\n",
       "</div>"
      ],
      "text/plain": [
       "    Month  total_revenues  Alcatel  Apple  Asus  BlackBerry  Coolpad  Fujitsu  \\\n",
       "0  Mar-11        0.000000     0.02   18.6  0.20        13.8     1.60      1.4   \n",
       "1  Jun-11        0.023668     0.14   20.3  0.25        12.6     1.80      1.5   \n",
       "2  Sep-11        0.070400     0.35   17.1  0.25        11.7     2.15      1.2   \n",
       "3  Dec-11        0.065626     0.55   37.0  0.25        13.4     3.20      1.6   \n",
       "4  Mar-12        0.078637     0.70   35.1  0.30         9.9     3.80      2.6   \n",
       "\n",
       "   Gionee  HMD  ...  Panasonic  Pantech  Samsung  Sharp  Sony  Tecno  Vivo  \\\n",
       "0     0.7  0.0  ...       0.05     0.43  12.5993    1.1   4.0    0.0   0.0   \n",
       "1     1.0  0.0  ...       0.05     0.60  20.1985    1.0   4.4    0.0   0.0   \n",
       "2     1.3  0.0  ...       0.10     0.85  28.1015    1.2   6.2    0.0   0.0   \n",
       "3     1.7  0.0  ...       0.15     1.22  36.5000    1.2   6.4    0.0   0.0   \n",
       "4     1.8  0.0  ...       0.20     1.30  44.4000    1.3   5.8    0.0   0.0   \n",
       "\n",
       "   Wiko  Xiaomi  ZTE  \n",
       "0   0.0    0.00  1.4  \n",
       "1   0.0    0.00  2.5  \n",
       "2   0.0    0.08  3.6  \n",
       "3   0.0    0.40  5.4  \n",
       "4   0.0    1.20  4.5  \n",
       "\n",
       "[5 rows x 31 columns]"
      ]
     },
     "execution_count": 8,
     "metadata": {},
     "output_type": "execute_result"
    }
   ],
   "source": [
    "revenue_df.head()"
   ]
  },
  {
   "cell_type": "code",
   "execution_count": 4,
   "metadata": {
    "colab": {
     "base_uri": "https://localhost:8080/",
     "height": 121
    },
    "colab_type": "code",
    "id": "tol4M8J6-dYv",
    "outputId": "f38cd030-2320-4af1-f652-51d4419dc07f"
   },
   "outputs": [
    {
     "data": {
      "text/plain": [
       "0    0.000000\n",
       "1    0.023668\n",
       "2    0.070400\n",
       "3    0.065626\n",
       "4    0.078637\n",
       "Name: total_revenues, dtype: float64"
      ]
     },
     "execution_count": 4,
     "metadata": {},
     "output_type": "execute_result"
    }
   ],
   "source": [
    "y_df = revenue_df['total_revenues']\n",
    "y_df.head()"
   ]
  },
  {
   "cell_type": "code",
   "execution_count": 5,
   "metadata": {
    "colab": {
     "base_uri": "https://localhost:8080/",
     "height": 309
    },
    "colab_type": "code",
    "id": "zFYkuUdx-dYz",
    "outputId": "cb08f398-b90b-4918-98b8-facf89fd24f3"
   },
   "outputs": [
    {
     "data": {
      "text/html": [
       "<div>\n",
       "<style scoped>\n",
       "    .dataframe tbody tr th:only-of-type {\n",
       "        vertical-align: middle;\n",
       "    }\n",
       "\n",
       "    .dataframe tbody tr th {\n",
       "        vertical-align: top;\n",
       "    }\n",
       "\n",
       "    .dataframe thead th {\n",
       "        text-align: right;\n",
       "    }\n",
       "</style>\n",
       "<table border=\"1\" class=\"dataframe\">\n",
       "  <thead>\n",
       "    <tr style=\"text-align: right;\">\n",
       "      <th></th>\n",
       "      <th>Month</th>\n",
       "      <th>Alcatel</th>\n",
       "      <th>Apple</th>\n",
       "      <th>Asus</th>\n",
       "      <th>BlackBerry</th>\n",
       "      <th>Coolpad</th>\n",
       "      <th>Fujitsu</th>\n",
       "      <th>Gionee</th>\n",
       "      <th>HMD</th>\n",
       "      <th>HTC</th>\n",
       "      <th>...</th>\n",
       "      <th>Panasonic</th>\n",
       "      <th>Pantech</th>\n",
       "      <th>Samsung</th>\n",
       "      <th>Sharp</th>\n",
       "      <th>Sony</th>\n",
       "      <th>Tecno</th>\n",
       "      <th>Vivo</th>\n",
       "      <th>Wiko</th>\n",
       "      <th>Xiaomi</th>\n",
       "      <th>ZTE</th>\n",
       "    </tr>\n",
       "  </thead>\n",
       "  <tbody>\n",
       "    <tr>\n",
       "      <th>0</th>\n",
       "      <td>Mar-11</td>\n",
       "      <td>0.02</td>\n",
       "      <td>18.6</td>\n",
       "      <td>0.20</td>\n",
       "      <td>13.8</td>\n",
       "      <td>1.60</td>\n",
       "      <td>1.4</td>\n",
       "      <td>0.7</td>\n",
       "      <td>0.0</td>\n",
       "      <td>9.60</td>\n",
       "      <td>...</td>\n",
       "      <td>0.05</td>\n",
       "      <td>0.43</td>\n",
       "      <td>12.5993</td>\n",
       "      <td>1.1</td>\n",
       "      <td>4.0</td>\n",
       "      <td>0.0</td>\n",
       "      <td>0.0</td>\n",
       "      <td>0.0</td>\n",
       "      <td>0.00</td>\n",
       "      <td>1.4</td>\n",
       "    </tr>\n",
       "    <tr>\n",
       "      <th>1</th>\n",
       "      <td>Jun-11</td>\n",
       "      <td>0.14</td>\n",
       "      <td>20.3</td>\n",
       "      <td>0.25</td>\n",
       "      <td>12.6</td>\n",
       "      <td>1.80</td>\n",
       "      <td>1.5</td>\n",
       "      <td>1.0</td>\n",
       "      <td>0.0</td>\n",
       "      <td>11.85</td>\n",
       "      <td>...</td>\n",
       "      <td>0.05</td>\n",
       "      <td>0.60</td>\n",
       "      <td>20.1985</td>\n",
       "      <td>1.0</td>\n",
       "      <td>4.4</td>\n",
       "      <td>0.0</td>\n",
       "      <td>0.0</td>\n",
       "      <td>0.0</td>\n",
       "      <td>0.00</td>\n",
       "      <td>2.5</td>\n",
       "    </tr>\n",
       "    <tr>\n",
       "      <th>2</th>\n",
       "      <td>Sep-11</td>\n",
       "      <td>0.35</td>\n",
       "      <td>17.1</td>\n",
       "      <td>0.25</td>\n",
       "      <td>11.7</td>\n",
       "      <td>2.15</td>\n",
       "      <td>1.2</td>\n",
       "      <td>1.3</td>\n",
       "      <td>0.0</td>\n",
       "      <td>13.15</td>\n",
       "      <td>...</td>\n",
       "      <td>0.10</td>\n",
       "      <td>0.85</td>\n",
       "      <td>28.1015</td>\n",
       "      <td>1.2</td>\n",
       "      <td>6.2</td>\n",
       "      <td>0.0</td>\n",
       "      <td>0.0</td>\n",
       "      <td>0.0</td>\n",
       "      <td>0.08</td>\n",
       "      <td>3.6</td>\n",
       "    </tr>\n",
       "    <tr>\n",
       "      <th>3</th>\n",
       "      <td>Dec-11</td>\n",
       "      <td>0.55</td>\n",
       "      <td>37.0</td>\n",
       "      <td>0.25</td>\n",
       "      <td>13.4</td>\n",
       "      <td>3.20</td>\n",
       "      <td>1.6</td>\n",
       "      <td>1.7</td>\n",
       "      <td>0.0</td>\n",
       "      <td>10.20</td>\n",
       "      <td>...</td>\n",
       "      <td>0.15</td>\n",
       "      <td>1.22</td>\n",
       "      <td>36.5000</td>\n",
       "      <td>1.2</td>\n",
       "      <td>6.4</td>\n",
       "      <td>0.0</td>\n",
       "      <td>0.0</td>\n",
       "      <td>0.0</td>\n",
       "      <td>0.40</td>\n",
       "      <td>5.4</td>\n",
       "    </tr>\n",
       "    <tr>\n",
       "      <th>4</th>\n",
       "      <td>Mar-12</td>\n",
       "      <td>0.70</td>\n",
       "      <td>35.1</td>\n",
       "      <td>0.30</td>\n",
       "      <td>9.9</td>\n",
       "      <td>3.80</td>\n",
       "      <td>2.6</td>\n",
       "      <td>1.8</td>\n",
       "      <td>0.0</td>\n",
       "      <td>6.70</td>\n",
       "      <td>...</td>\n",
       "      <td>0.20</td>\n",
       "      <td>1.30</td>\n",
       "      <td>44.4000</td>\n",
       "      <td>1.3</td>\n",
       "      <td>5.8</td>\n",
       "      <td>0.0</td>\n",
       "      <td>0.0</td>\n",
       "      <td>0.0</td>\n",
       "      <td>1.20</td>\n",
       "      <td>4.5</td>\n",
       "    </tr>\n",
       "  </tbody>\n",
       "</table>\n",
       "<p>5 rows × 30 columns</p>\n",
       "</div>"
      ],
      "text/plain": [
       "    Month  Alcatel  Apple  Asus  BlackBerry  Coolpad  Fujitsu  Gionee  HMD  \\\n",
       "0  Mar-11     0.02   18.6  0.20        13.8     1.60      1.4     0.7  0.0   \n",
       "1  Jun-11     0.14   20.3  0.25        12.6     1.80      1.5     1.0  0.0   \n",
       "2  Sep-11     0.35   17.1  0.25        11.7     2.15      1.2     1.3  0.0   \n",
       "3  Dec-11     0.55   37.0  0.25        13.4     3.20      1.6     1.7  0.0   \n",
       "4  Mar-12     0.70   35.1  0.30         9.9     3.80      2.6     1.8  0.0   \n",
       "\n",
       "     HTC  ...  Panasonic  Pantech  Samsung  Sharp  Sony  Tecno  Vivo  Wiko  \\\n",
       "0   9.60  ...       0.05     0.43  12.5993    1.1   4.0    0.0   0.0   0.0   \n",
       "1  11.85  ...       0.05     0.60  20.1985    1.0   4.4    0.0   0.0   0.0   \n",
       "2  13.15  ...       0.10     0.85  28.1015    1.2   6.2    0.0   0.0   0.0   \n",
       "3  10.20  ...       0.15     1.22  36.5000    1.2   6.4    0.0   0.0   0.0   \n",
       "4   6.70  ...       0.20     1.30  44.4000    1.3   5.8    0.0   0.0   0.0   \n",
       "\n",
       "   Xiaomi  ZTE  \n",
       "0    0.00  1.4  \n",
       "1    0.00  2.5  \n",
       "2    0.08  3.6  \n",
       "3    0.40  5.4  \n",
       "4    1.20  4.5  \n",
       "\n",
       "[5 rows x 30 columns]"
      ]
     },
     "execution_count": 5,
     "metadata": {},
     "output_type": "execute_result"
    }
   ],
   "source": [
    "# Select regressors all columns but total revenues\n",
    "X_df = revenue_df.loc[:, revenue_df.columns != 'total_revenues']\n",
    "X_df.head()"
   ]
  },
  {
   "cell_type": "code",
   "execution_count": 9,
   "metadata": {
    "colab": {
     "base_uri": "https://localhost:8080/",
     "height": 104
    },
    "colab_type": "code",
    "id": "fWhBxFAsriAp",
    "outputId": "c6bcc8db-ed23-4473-f3f0-7888dfd9632d"
   },
   "outputs": [],
   "source": [
    "# we are not running time series regression so exclude date index\n",
    "X_df.drop('Month', axis=1, inplace=True)"
   ]
  },
  {
   "cell_type": "code",
   "execution_count": 10,
   "metadata": {
    "colab": {
     "base_uri": "https://localhost:8080/",
     "height": 52
    },
    "colab_type": "code",
    "id": "jQP_4-QHPBBp",
    "outputId": "290d61bd-aecb-4c7e-bac3-5a55319280d1"
   },
   "outputs": [
    {
     "name": "stdout",
     "output_type": "stream",
     "text": [
      "Train (29, 29) (29,)\n",
      "Test (8, 29) (8,)\n"
     ]
    }
   ],
   "source": [
    "from sklearn.model_selection import train_test_split\n",
    "# split into train and test sets with 80 percent of the data for training and 20 percent for testing.\n",
    "X_train, X_test, y_train, y_test = train_test_split(X_df, y_df, test_size=0.2, random_state=1)\n",
    "# summarize\n",
    "print('Train', X_train.shape, y_train.shape)\n",
    "print('Test', X_test.shape, y_test.shape)"
   ]
  },
  {
   "cell_type": "markdown",
   "metadata": {
    "colab_type": "text",
    "id": "L3ZMox5kPslv"
   },
   "source": [
    "**2. Numerical Feature Selection**\n",
    "\n",
    "**2.1 Numerical Feature Selection - Correlation**"
   ]
  },
  {
   "cell_type": "code",
   "execution_count": 15,
   "metadata": {
    "colab": {
     "base_uri": "https://localhost:8080/",
     "height": 772
    },
    "colab_type": "code",
    "id": "eF8J5F8iPqtA",
    "outputId": "f5821554-2c15-4678-9781-c640d16e7f94"
   },
   "outputs": [
    {
     "name": "stdout",
     "output_type": "stream",
     "text": [
      "Feature 0: 4.629553\n",
      "Feature 1: 19.392903\n",
      "Feature 2: 24.631010\n",
      "Feature 3: 66.997125\n",
      "Feature 4: 4.814192\n",
      "Feature 5: 39.063048\n",
      "Feature 6: 0.012950\n",
      "Feature 7: 21.346836\n",
      "Feature 8: 99.770387\n",
      "Feature 9: 99.585641\n",
      "Feature 10: 32.951346\n",
      "Feature 11: 3.092807\n",
      "Feature 12: 4.346473\n",
      "Feature 13: 15.555962\n",
      "Feature 14: 1.114579\n",
      "Feature 15: 30.315032\n",
      "Feature 16: 46.791570\n",
      "Feature 17: 82.701354\n",
      "Feature 18: 71.218707\n",
      "Feature 19: 4.129725\n",
      "Feature 20: 40.862592\n",
      "Feature 21: 13.722245\n",
      "Feature 22: 0.658072\n",
      "Feature 23: 10.360216\n",
      "Feature 24: 114.705461\n",
      "Feature 25: 80.100628\n",
      "Feature 26: 17.486004\n",
      "Feature 27: 89.883846\n",
      "Feature 28: 0.276683\n"
     ]
    },
    {
     "data": {
      "image/png": "[encoded data removed]",
      "text/plain": [
       "<Figure size 432x288 with 1 Axes>"
      ]
     },
     "metadata": {
      "needs_background": "light"
     },
     "output_type": "display_data"
    }
   ],
   "source": [
    "from sklearn.feature_selection import SelectKBest\n",
    "from sklearn.feature_selection import f_regression\n",
    "from matplotlib import pyplot\n",
    "\n",
    "# wrap feature selection logic in a function - use ALL features\n",
    "def select_features_corr(X_train, y_train, X_test):\n",
    "\t# configure to select all features\n",
    "\tfs = SelectKBest(score_func=f_regression, k='all')\n",
    "\t# learn relationship from training data\n",
    "\tfs.fit(X_train, y_train)\n",
    "\t# transform train input data\n",
    "\tX_train_fs = fs.transform(X_train)\n",
    "\t# transform test input data\n",
    "\tX_test_fs = fs.transform(X_test)\n",
    "\treturn X_train_fs, X_test_fs, fs\n",
    "\n",
    "# feature selection using correlation, by default\n",
    "X_train_fs, X_test_fs, fs = select_features_corr(X_train, y_train, X_test)\n",
    "\n",
    "# what are scores for the features (ranging from less than 1 to 101)\n",
    "def show_scores():\n",
    "  for i in range(len(fs.scores_)):\n",
    "\t  print('Feature %d: %f' % (i, fs.scores_[i]))\n",
    "  # plot the scores\n",
    "  pyplot.bar([i for i in range(len(fs.scores_))], fs.scores_)\n",
    "  pyplot.show()\n",
    "\n",
    "show_scores()"
   ]
  },
  {
   "cell_type": "markdown",
   "metadata": {
    "colab_type": "text",
    "id": "CIFZIOrKSXeB"
   },
   "source": [
    "**Observation:**\n",
    "\n",
    "* Huawei (9) and Samsung (24) show high scores\n",
    "* Label the x axis or create a mapping dictionary"
   ]
  },
  {
   "cell_type": "markdown",
   "metadata": {
    "colab_type": "text",
    "id": "u-PooHLLS0Og"
   },
   "source": [
    "**2.2 Numerical Feature Selection - Mutual Information**"
   ]
  },
  {
   "cell_type": "code",
   "execution_count": 14,
   "metadata": {
    "colab": {
     "base_uri": "https://localhost:8080/",
     "height": 768
    },
    "colab_type": "code",
    "id": "gvJQQ7uQTMI4",
    "outputId": "0e3e462d-8a2c-4eaf-e208-d3b15adbab0d"
   },
   "outputs": [
    {
     "ename": "NameError",
     "evalue": "name 'SelectKBest' is not defined",
     "output_type": "error",
     "traceback": [
      "\u001b[1;31m---------------------------------------------------------------------------\u001b[0m",
      "\u001b[1;31mNameError\u001b[0m                                 Traceback (most recent call last)",
      "\u001b[1;32m<ipython-input-14-62e6dd1b5f76>\u001b[0m in \u001b[0;36m<module>\u001b[1;34m\u001b[0m\n\u001b[0;32m     14\u001b[0m \u001b[1;33m\u001b[0m\u001b[0m\n\u001b[0;32m     15\u001b[0m \u001b[1;31m# feature selection using correlation\u001b[0m\u001b[1;33m\u001b[0m\u001b[1;33m\u001b[0m\u001b[1;33m\u001b[0m\u001b[0m\n\u001b[1;32m---> 16\u001b[1;33m \u001b[0mX_train_fs\u001b[0m\u001b[1;33m,\u001b[0m \u001b[0mX_test_fs\u001b[0m\u001b[1;33m,\u001b[0m \u001b[0mfs\u001b[0m \u001b[1;33m=\u001b[0m \u001b[0mselect_features_mutualinfo\u001b[0m\u001b[1;33m(\u001b[0m\u001b[0mX_train\u001b[0m\u001b[1;33m,\u001b[0m \u001b[0my_train\u001b[0m\u001b[1;33m,\u001b[0m \u001b[0mX_test\u001b[0m\u001b[1;33m)\u001b[0m\u001b[1;33m\u001b[0m\u001b[1;33m\u001b[0m\u001b[0m\n\u001b[0m\u001b[0;32m     17\u001b[0m \u001b[1;33m\u001b[0m\u001b[0m\n\u001b[0;32m     18\u001b[0m \u001b[0mshow_scores\u001b[0m\u001b[1;33m(\u001b[0m\u001b[1;33m)\u001b[0m\u001b[1;33m\u001b[0m\u001b[1;33m\u001b[0m\u001b[0m\n",
      "\u001b[1;32m<ipython-input-14-62e6dd1b5f76>\u001b[0m in \u001b[0;36mselect_features_mutualinfo\u001b[1;34m(X_train, y_train, X_test)\u001b[0m\n\u001b[0;32m      4\u001b[0m \u001b[1;32mdef\u001b[0m \u001b[0mselect_features_mutualinfo\u001b[0m\u001b[1;33m(\u001b[0m\u001b[0mX_train\u001b[0m\u001b[1;33m,\u001b[0m \u001b[0my_train\u001b[0m\u001b[1;33m,\u001b[0m \u001b[0mX_test\u001b[0m\u001b[1;33m)\u001b[0m\u001b[1;33m:\u001b[0m\u001b[1;33m\u001b[0m\u001b[1;33m\u001b[0m\u001b[0m\n\u001b[0;32m      5\u001b[0m         \u001b[1;31m# configure to select all features\u001b[0m\u001b[1;33m\u001b[0m\u001b[1;33m\u001b[0m\u001b[1;33m\u001b[0m\u001b[0m\n\u001b[1;32m----> 6\u001b[1;33m         \u001b[0mfs\u001b[0m \u001b[1;33m=\u001b[0m \u001b[0mSelectKBest\u001b[0m\u001b[1;33m(\u001b[0m\u001b[0mscore_func\u001b[0m\u001b[1;33m=\u001b[0m\u001b[0mmutual_info_regression\u001b[0m\u001b[1;33m,\u001b[0m \u001b[0mk\u001b[0m\u001b[1;33m=\u001b[0m\u001b[1;34m'all'\u001b[0m\u001b[1;33m)\u001b[0m\u001b[1;33m\u001b[0m\u001b[1;33m\u001b[0m\u001b[0m\n\u001b[0m\u001b[0;32m      7\u001b[0m         \u001b[1;31m# learn relationship from training data\u001b[0m\u001b[1;33m\u001b[0m\u001b[1;33m\u001b[0m\u001b[1;33m\u001b[0m\u001b[0m\n\u001b[0;32m      8\u001b[0m         \u001b[0mfs\u001b[0m\u001b[1;33m.\u001b[0m\u001b[0mfit\u001b[0m\u001b[1;33m(\u001b[0m\u001b[0mX_train\u001b[0m\u001b[1;33m,\u001b[0m \u001b[0my_train\u001b[0m\u001b[1;33m)\u001b[0m\u001b[1;33m\u001b[0m\u001b[1;33m\u001b[0m\u001b[0m\n",
      "\u001b[1;31mNameError\u001b[0m: name 'SelectKBest' is not defined"
     ]
    }
   ],
   "source": [
    "from sklearn.feature_selection import mutual_info_regression\n",
    "# configure to select all features\n",
    "# feature selection\n",
    "def select_features_mutualinfo(X_train, y_train, X_test):\n",
    "\t# configure to select all features\n",
    "\tfs = SelectKBest(score_func=mutual_info_regression, k='all')\n",
    "\t# learn relationship from training data\n",
    "\tfs.fit(X_train, y_train)\n",
    "\t# transform train input data\n",
    "\tX_train_fs = fs.transform(X_train)\n",
    "\t# transform test input data\n",
    "\tX_test_fs = fs.transform(X_test)\n",
    "\treturn X_train_fs, X_test_fs, fs\n",
    "\n",
    "# feature selection using correlation\n",
    "X_train_fs, X_test_fs, fs = select_features_mutualinfo(X_train, y_train, X_test)\n",
    "\n",
    "show_scores()"
   ]
  },
  {
   "cell_type": "markdown",
   "metadata": {
    "colab_type": "text",
    "id": "gNJvOV3PDmHD"
   },
   "source": [
    "**Observation:**\n",
    "\n",
    "* Huawei (9) still scores high as important feature"
   ]
  },
  {
   "cell_type": "markdown",
   "metadata": {
    "colab_type": "text",
    "id": "PLCeqErFmdFg"
   },
   "source": [
    "**3. Modeling with Features**\n",
    "\n",
    "**3.1 Using All Features**"
   ]
  },
  {
   "cell_type": "code",
   "execution_count": 16,
   "metadata": {
    "colab": {
     "base_uri": "https://localhost:8080/",
     "height": 35
    },
    "colab_type": "code",
    "id": "igYnmN7smlKt",
    "outputId": "99a59a55-66e4-41c5-caf9-0a6e6134c19b"
   },
   "outputs": [
    {
     "name": "stdout",
     "output_type": "stream",
     "text": [
      "MAE: 0.653\n"
     ]
    }
   ],
   "source": [
    "from sklearn.linear_model import LinearRegression\n",
    "from sklearn.metrics import mean_absolute_error\n",
    "\n",
    "# fit the model\n",
    "model = LinearRegression()\n",
    "model.fit(X_train, y_train)\n",
    "# evaluate the model\n",
    "yhat = model.predict(X_test)\n",
    "# evaluate predictions\n",
    "mae = mean_absolute_error(y_test, yhat)\n",
    "print('MAE: %.3f' % mae)"
   ]
  },
  {
   "cell_type": "markdown",
   "metadata": {
    "colab_type": "text",
    "id": "NT3io-CcDxPJ"
   },
   "source": [
    "**Observation:**\n",
    "\n",
    "* Using all features we get Mean Absolute Error (MAE) of 0.653"
   ]
  },
  {
   "cell_type": "markdown",
   "metadata": {
    "colab_type": "text",
    "id": "hLKJbPkQqTX8"
   },
   "source": [
    "**3.2. Model with Subset Correlation Features**"
   ]
  },
  {
   "cell_type": "markdown",
   "metadata": {
    "colab_type": "text",
    "id": "6qkMeSd4m3K1"
   },
   "source": [
    "**Objective:**\n",
    "\n",
    "* Use a subset or combination of features that achieves MAE < 0.653"
   ]
  },
  {
   "cell_type": "code",
   "execution_count": 18,
   "metadata": {
    "colab": {
     "base_uri": "https://localhost:8080/",
     "height": 35
    },
    "colab_type": "code",
    "id": "PDoU-_-GnAXm",
    "outputId": "b2c6061f-074d-4a1e-b5e6-4eca821e0447"
   },
   "outputs": [
    {
     "name": "stdout",
     "output_type": "stream",
     "text": [
      "MAE: 0.089\n"
     ]
    }
   ],
   "source": [
    "\n",
    "# feature selection\n",
    "def select_features_10_corr(X_train, y_train, X_test):\n",
    "\t# configure to select a subset of features\n",
    "\tfs = SelectKBest(score_func=f_regression, k=5)\n",
    "\t# learn relationship from training data\n",
    "\tfs.fit(X_train, y_train)\n",
    "\t# transform train input data\n",
    "\tX_train_fs = fs.transform(X_train)\n",
    "\t# transform test input data\n",
    "\tX_test_fs = fs.transform(X_test)\n",
    "\treturn X_train_fs, X_test_fs, fs\n",
    "\n",
    "# feature selection by correlation\n",
    "X_train_fs, X_test_fs, fs = select_features_10_corr(X_train, y_train, X_test)\n",
    "# fit the model\n",
    "model = LinearRegression()\n",
    "model.fit(X_train_fs, y_train)\n",
    "# evaluate the model\n",
    "yhat = model.predict(X_test_fs)\n",
    "# evaluate predictions\n",
    "mae = mean_absolute_error(y_test, yhat)\n",
    "print('MAE: %.3f' % mae)"
   ]
  },
  {
   "cell_type": "markdown",
   "metadata": {
    "colab_type": "text",
    "id": "wnfeSBXUELgV"
   },
   "source": [
    "**Observation:**\n",
    "\n",
    "* Using 10 top features we get Mean Absolute Error (MAE) of 0.132 improving predictability"
   ]
  },
  {
   "cell_type": "markdown",
   "metadata": {
    "colab_type": "text",
    "id": "BOz1u_Vhsw9n"
   },
   "source": [
    "**Resources**\n",
    "\n",
    "* [Rergression Features Selection](https://machinelearningmastery.com/feature-selection-for-regression-data/) by Jason Brownlee"
   ]
  }
 ],
 "metadata": {
  "colab": {
   "collapsed_sections": [],
   "name": "arm_feature_selection_corr.ipynb",
   "provenance": []
  },
  "kernelspec": {
   "display_name": "Python 3",
   "language": "python",
   "name": "python3"
  },
  "language_info": {
   "codemirror_mode": {
    "name": "ipython",
    "version": 3
   },
   "file_extension": ".py",
   "mimetype": "text/x-python",
   "name": "python",
   "nbconvert_exporter": "python",
   "pygments_lexer": "ipython3",
   "version": "3.7.4"
  }
 },
 "nbformat": 4,
 "nbformat_minor": 1
}

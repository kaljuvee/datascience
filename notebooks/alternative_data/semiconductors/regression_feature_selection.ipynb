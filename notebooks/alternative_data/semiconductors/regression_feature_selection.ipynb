{
 "cells": [
  {
   "cell_type": "markdown",
   "metadata": {
    "colab_type": "text",
    "id": "view-in-github"
   },
   "source": [
    "<a href=\"https://colab.research.google.com/github/kaljuvee/datascience/blob/master/notebooks/stats/regression_feature_selection.ipynb\" target=\"_parent\"><img src=\"https://colab.research.google.com/assets/colab-badge.svg\" alt=\"Open In Colab\"/></a>"
   ]
  },
  {
   "cell_type": "code",
   "execution_count": 1,
   "metadata": {
    "colab": {},
    "colab_type": "code",
    "id": "6NSRSE_SLz9m"
   },
   "outputs": [
    {
     "name": "stdout",
     "output_type": "stream",
     "text": [
      "Requirement already satisfied: sklearn in c:\\users\\kalju\\anaconda3\\lib\\site-packages (0.0)\n",
      "Requirement already satisfied: scikit-learn in c:\\users\\kalju\\anaconda3\\lib\\site-packages (from sklearn) (0.24.0)\n",
      "Requirement already satisfied: scipy>=0.19.1 in c:\\users\\kalju\\anaconda3\\lib\\site-packages (from scikit-learn->sklearn) (1.3.1)\n",
      "Requirement already satisfied: joblib>=0.11 in c:\\users\\kalju\\anaconda3\\lib\\site-packages (from scikit-learn->sklearn) (0.13.2)\n",
      "Requirement already satisfied: numpy>=1.13.3 in c:\\users\\kalju\\anaconda3\\lib\\site-packages (from scikit-learn->sklearn) (1.19.4)\n",
      "Requirement already satisfied: threadpoolctl>=2.0.0 in c:\\users\\kalju\\anaconda3\\lib\\site-packages (from scikit-learn->sklearn) (2.1.0)\n"
     ]
    },
    {
     "name": "stderr",
     "output_type": "stream",
     "text": [
      "WARNING: You are using pip version 20.2.3; however, version 20.3.3 is available.\n",
      "You should consider upgrading via the 'c:\\users\\kalju\\anaconda3\\python.exe -m pip install --upgrade pip' command.\n"
     ]
    }
   ],
   "source": [
    "!pip install sklearn\n",
    "import statsmodels.api as sm\n",
    "from sklearn.linear_model import LinearRegression\n",
    "from sklearn.metrics import r2_score"
   ]
  },
  {
   "cell_type": "markdown",
   "metadata": {
    "colab_type": "text",
    "id": "NEykllYZMT9Y"
   },
   "source": [
    "**Background**\n",
    "\n",
    "The simplest case of feature selection is the case where there are numerical input variables and a numerical target for regression predictive modeling, and this can often be done with correlation.\n",
    "\n",
    "\n",
    "**Overview**\n",
    "\n",
    "Using [scikit-learn](https://scikit-learn.org/) libarary we demonstrate:\n",
    "\n",
    "* **Correlation and mutual statistics** - evaluate the importance of numerical input data using the correlation \n",
    "and mutual information statistics.\n",
    "* **Numerical feature selection** - perform feature selection for numerical input data when fitting and evaluating a regression model.\n",
    "* **Tuning with grid search** -  tune the number of features selected in a modeling pipeline using a grid search\n",
    "\n",
    "**Steps**\n",
    "\n",
    "1. Generate Regression Dataset\n",
    "2. Numerical Feature Selection\n",
    "  1. Correlation Feature Selection\n",
    "  2. Mutual Information Feature Selection\n",
    "3. Modeling With Selected Features\n",
    "  1. Model Built Using All Features\n",
    "  2. Model Built Using Correlation Features\n",
    "  3. Model Built Using Mutual Information Features\n",
    "4. Tune the Number of Selected Features"
   ]
  },
  {
   "cell_type": "markdown",
   "metadata": {
    "colab_type": "text",
    "id": "0o24pYMjPlQZ"
   },
   "source": [
    "**1. Generate Regression Dataset**"
   ]
  },
  {
   "cell_type": "code",
   "execution_count": 2,
   "metadata": {
    "colab": {},
    "colab_type": "code",
    "id": "g8kJcGsONjCp"
   },
   "outputs": [
    {
     "name": "stdout",
     "output_type": "stream",
     "text": [
      "X: [[ 0.30893705 -1.35811724  1.79967284 ... -0.55219994 -1.50804141\n",
      "   0.14923664]\n",
      " [-0.71467683 -0.9113987   0.70454252 ... -0.77040112  0.4975401\n",
      "   0.83628731]\n",
      " [-2.41427283  0.27041568 -1.89020704 ...  0.43497414  0.96762308\n",
      "   1.10718341]\n",
      " ...\n",
      " [ 0.87044468  0.31139596  0.59143176 ... -0.03046589 -0.39953994\n",
      "  -1.17687347]\n",
      " [-0.07522565 -1.92262426  0.69964754 ... -0.59371794  0.07702001\n",
      "  -0.94298857]\n",
      " [-0.10375714  1.32088598  1.09781828 ... -0.41184483  0.10809159\n",
      "  -1.00706195]]\n"
     ]
    }
   ],
   "source": [
    "from sklearn.datasets import make_regression\n",
    "# generate regression dataset with 1,000 samples, each with 100 input features where 10 are informative and the remaining 90 are redundant.\n",
    "X, y = make_regression(n_samples=1000, n_features=100, n_informative=10, noise=0.1, random_state=1)\n",
    "print('X:', X)"
   ]
  },
  {
   "cell_type": "code",
   "execution_count": 4,
   "metadata": {},
   "outputs": [
    {
     "name": "stdout",
     "output_type": "stream",
     "text": [
      "y: [ 2.52283984e+02 -5.62399070e+01  6.81387660e+01  2.23898260e+02\n",
      "  1.12662452e+02  2.60369055e+01  1.61389588e+02  4.18332025e+01\n",
      "  1.13802812e+02  1.76270233e+02  1.45117548e+02 -5.10403894e+01\n",
      "  4.28870051e+02 -1.25853376e+02 -2.03125551e+01  1.75601268e+02\n",
      " -3.96441282e+02  1.72668284e+02 -1.53563490e+02 -1.57620619e+02\n",
      " -3.64477560e+02  1.55423646e+02 -2.48602775e+02 -1.89698219e+02\n",
      " -1.95115429e+02  1.48924715e+02  3.51875138e+02 -1.24823430e+02\n",
      "  6.78632306e+01  1.20277584e+02 -8.17285669e+01  3.11603171e+02\n",
      " -7.75629717e+01  3.18974996e+02  1.52960081e+02 -2.26959605e+02\n",
      " -1.23494077e+02 -8.84974234e+01 -2.03821352e+02 -4.66160062e+01\n",
      " -1.61931643e+02 -4.88913542e+01 -1.64734823e+02 -1.59554176e+02\n",
      " -3.06230020e+02 -7.28506146e+01  1.81591144e+01 -2.92703558e+02\n",
      "  2.52629905e+02  3.99248210e+02 -9.45179896e+01 -1.11057178e+02\n",
      "  1.80212721e+02 -2.71450531e+02  2.53233006e+01  1.62644773e+02\n",
      " -3.82189177e+02  8.25756375e-01  4.90156762e+02  3.99693074e+02\n",
      "  3.09014178e+02  1.19872070e+02  5.06105069e+01 -1.26700874e+02\n",
      "  3.15191746e+02 -1.55867651e+02  1.62122458e+02 -1.71517408e+02\n",
      " -2.74967332e+02 -2.19701224e+02  2.19459421e+02  1.21574791e+02\n",
      " -6.68582177e+00  3.41852493e+01  7.60876366e+01 -3.02317231e+02\n",
      "  3.37931572e+00  4.27469169e+02 -1.16073331e+02  3.42694181e+01\n",
      " -2.69632184e+02 -9.42272386e+00 -4.22877218e+02  6.04685905e+01\n",
      "  1.61577236e+02 -1.48792389e+02  8.84958259e+01 -1.75490852e+02\n",
      "  1.68635742e+02  4.09056059e+02 -3.75710226e+02  4.57532478e+01\n",
      " -1.08618429e+02 -7.22381386e+00 -3.03816073e+02  1.10427473e+02\n",
      " -3.69684208e+02 -1.88400650e+02  1.47981978e+02  5.87070412e+01\n",
      "  1.32351923e+02 -4.22605901e+01  5.46211054e+01  1.83520554e+01\n",
      " -1.06103852e+02  2.80261807e+02 -3.23028779e+01  3.95532466e+01\n",
      "  4.95865433e+02  4.66709244e+01 -9.46321197e+01  3.40879311e+01\n",
      " -1.45878966e+02  3.54913538e+02  2.50984988e+01 -2.06815864e+02\n",
      " -4.14030475e+02 -5.83984457e-02  7.33488646e+01 -3.16551230e+01\n",
      " -4.64663261e+01  9.60996120e+01  6.23902488e+01  1.90320719e+02\n",
      " -1.20735573e+02  2.67544121e+02 -2.61079646e+02 -8.96398774e+01\n",
      " -1.97222148e+02 -1.03751349e+02  3.58710990e+01 -8.71758053e+00\n",
      "  4.93077647e+02  3.15725662e+02  3.56683944e+01  1.49022501e+02\n",
      " -1.39131238e+02 -2.72728275e+00 -3.18056825e+01  2.13897260e+02\n",
      " -2.15787789e+00  3.79729572e+02  4.22860811e+02 -2.51540245e+01\n",
      " -2.00468292e+02 -6.67187348e+01  8.51620832e+00 -1.39512562e+02\n",
      " -3.62746853e+02 -7.47892618e+01 -4.69014598e+01  2.25419661e+02\n",
      "  1.69302487e+01  9.82945518e+01 -1.42882708e+02  1.30332967e+02\n",
      "  1.15671437e+02 -3.29372712e+02 -1.85921638e+02 -1.27198846e+02\n",
      " -1.44229077e+02 -2.21092980e+01 -7.82207276e+01 -7.15718511e+01\n",
      " -9.55534793e+01  6.59010278e+00  1.71428597e+02 -3.38686936e+02\n",
      " -2.29053951e+02  1.53844244e+02  3.28308868e+02  1.03140084e+02\n",
      "  2.47222348e+02 -3.90309405e+02  1.31767517e+02 -3.96867284e+01\n",
      "  1.49604899e+02 -2.81077235e+02 -1.73200356e+02 -6.86158312e+01\n",
      "  1.59540261e+02  6.45306477e+01  1.83691257e+01 -2.00082198e+02\n",
      "  8.78884739e+01 -4.68847814e+01 -1.34930675e+02  5.99116539e+01\n",
      "  3.25422762e+01 -1.35376416e+02  3.00366526e+02  3.68676176e+01\n",
      "  1.58833440e+02  2.30260288e+02  3.27622956e+01 -8.52518081e+01\n",
      "  8.37969181e+01 -2.66796379e+02  1.26530256e+02 -1.31038965e+00\n",
      " -1.79505172e+02 -7.04803075e+01  3.61684820e+02  2.45223658e+02\n",
      " -9.49344921e+00 -7.95399441e+01  1.45157563e+00 -8.18721487e+01\n",
      "  5.19838274e+00  4.54643887e+02 -5.33822569e+01 -4.10634784e+02\n",
      "  9.15347027e+01 -1.89885333e+01 -1.20054879e+02  1.54588714e+02\n",
      " -2.44827138e+02  1.99423624e+02 -8.54866020e+01  7.95028231e+00\n",
      "  7.71645575e+01 -2.80099163e+02 -1.86675154e+02 -1.00173874e+02\n",
      " -1.28206574e+02  3.41870933e+02  2.84980116e+02 -1.54333282e+02\n",
      " -7.83241139e+01 -1.07829011e+02  4.96202325e+01 -7.80856249e+01\n",
      " -5.92575374e+01 -2.19504613e+02  4.65400386e+02  4.29623827e+02\n",
      " -2.02817675e+01  1.37303235e+02  6.18168000e+01 -1.06007133e+02\n",
      "  1.54300957e+02  3.14653463e+01  1.20223482e+02 -3.24380075e+02\n",
      " -1.73513510e+01 -4.86748131e+01  2.61612289e+02  2.71464592e+02\n",
      "  2.88315603e+02 -3.24202278e+02  3.91262308e+01 -1.15002780e+02\n",
      "  6.55644253e+01  2.06487273e+01  6.26662192e+01 -1.36472580e+02\n",
      " -1.70298407e+02 -1.18387795e+02 -3.43644991e+02  7.13729608e-01\n",
      "  8.46408902e+01 -1.78813298e+02  4.66745047e+01  2.71955950e+02\n",
      "  5.83012425e+01 -1.34345572e+02 -1.17536368e+02  9.47726611e+01\n",
      "  1.76673399e+02  1.15764251e+02  1.89872690e+02 -4.22899927e+02\n",
      " -2.44683799e+02  3.35492112e+01  2.05362182e+02  1.46492757e+02\n",
      " -1.79665650e+02  3.32090458e+01  5.26248011e+02  9.26123442e+01\n",
      " -2.49206069e+02 -1.60678806e+02 -3.46658245e+01  1.29479560e+01\n",
      " -2.73793615e+01 -2.33820354e+01  2.04611263e+02  2.87189842e+01\n",
      " -1.17728882e+02 -3.22369089e+02 -1.58222921e+02 -1.52748556e+02\n",
      " -2.07309790e+02 -1.55494312e+02 -1.84679675e+02  5.56088975e+01\n",
      "  3.36211257e+01 -1.58346075e+01 -1.39967990e+02  1.31080286e+02\n",
      " -1.03692048e+02 -8.49083750e+01  1.13257160e+02 -1.72120448e+02\n",
      "  1.22904935e+02  1.73080425e+02 -1.68048536e+02 -9.04179082e+01\n",
      "  1.92419422e+02  3.42314104e+02 -3.83219436e+02 -1.40348288e+02\n",
      " -3.19552492e+01  1.70016979e+02 -1.01556805e+01 -3.04476796e+02\n",
      "  4.92654875e+02  2.63688381e+01  3.31244305e+02 -1.79595752e+02\n",
      "  1.22040201e+02  2.65665542e+02 -6.52079575e+01 -2.35857880e+02\n",
      "  2.57308001e+02  4.65869538e+02 -1.73408767e+01  1.07725518e+01\n",
      "  3.00354918e+02 -2.71683644e+02 -4.27879415e+02  9.70919825e+00\n",
      " -3.45976745e+02 -8.09377002e+01 -4.10588429e+01 -1.36041656e+02\n",
      "  4.51953906e+01  1.04816452e+02  4.83882249e+01  1.57060786e+02\n",
      "  3.27345666e+02  8.90811707e+00 -2.04675113e+01  2.43904524e+02\n",
      " -5.05904234e+01 -1.92620508e+02  5.73594022e+01 -1.03951754e+01\n",
      " -2.65044014e+02  2.95971229e+02  2.84740262e+02  1.15489828e+02\n",
      " -2.35458465e+02 -1.23659126e+02  5.59945549e+01  1.98950977e+02\n",
      "  2.47469203e+02  2.05676948e+02  3.50767607e+02  2.03242593e+02\n",
      " -3.36202396e+02 -2.49589461e+02 -2.30412444e+02  1.49899080e+02\n",
      " -2.18410390e+02  1.12722652e+02 -1.58205344e+02  6.58852559e+01\n",
      " -3.06940929e+02  2.63402625e+01 -1.24278693e+02 -6.67079097e+01\n",
      " -2.66253112e+01 -1.08059798e+02 -1.22387262e+01 -2.74294342e+01\n",
      "  8.72299972e+01  3.97838816e+01 -1.09067932e+02 -1.04744170e+02\n",
      " -1.72492414e+02 -1.06953551e+02 -1.59156891e+01  1.63879334e+02\n",
      "  1.11753456e+02  2.62515821e+02  1.49196231e+02  4.86369212e+02\n",
      "  2.89568718e+01 -1.12058721e+01  1.54801844e+02 -1.44078568e+02\n",
      "  3.97831455e+02 -1.56166367e+02  6.02879325e+01 -3.19880820e+02\n",
      " -2.53058303e+02 -1.99030390e+02  2.62348117e+02 -1.75721696e+02\n",
      "  3.19783992e+02 -6.47871427e+01 -2.47622691e+02  2.79441901e+02\n",
      "  1.30996155e+02  3.00333655e+02 -1.18920498e+02  3.41444182e+02\n",
      " -9.61799593e+01  3.98330564e+02 -1.49637228e+02 -1.41959686e+02\n",
      "  4.51131549e+01  3.45938465e+01  2.88482789e+01 -1.01090051e+02\n",
      " -3.44807121e+01 -3.46011751e+02 -2.37932810e+02  2.31357759e+02\n",
      "  2.94214708e+02  3.30951772e+02 -1.54242186e+02  1.98191026e+02\n",
      " -1.70570743e+02  9.90842550e+01 -4.05512566e+02 -1.99820509e+02\n",
      " -6.16020932e+02  1.79441451e+02  2.22339801e+02  6.24196226e+01\n",
      "  2.35516196e+02  1.03292808e+02 -2.55684709e+02 -8.95688371e+01\n",
      "  1.01227531e+02 -6.56974004e+01  1.91891500e+02 -1.06219579e+02\n",
      "  2.06295378e+02 -4.64374944e+01  3.23785430e+02 -3.51247782e+02\n",
      "  1.92464606e+02 -4.54439837e+02 -1.90001932e+02 -1.23353227e+02\n",
      "  4.20892283e+01  5.78079251e+01  2.79393788e+02 -1.05547710e+02\n",
      "  8.25966838e+01  1.78287203e+02 -1.58239056e+02 -5.32773550e+01\n",
      "  5.31529060e+01 -1.35409098e+02 -6.92674627e+01 -1.19022725e+02\n",
      "  3.00052178e+02  2.62777080e+02 -2.35950350e+02 -3.40749874e+02\n",
      " -9.49835864e+00  1.90673401e+02  1.40167954e+01 -2.86841813e+00\n",
      " -2.61167740e+02  1.12419225e+02  5.59875649e+01  1.92568314e+01\n",
      " -1.91186387e+02 -3.78709927e+02  4.31356573e+02 -4.35346765e+01\n",
      " -3.11129865e+01  1.27495715e+02  3.74798679e+01 -2.40141094e+02\n",
      " -1.91351201e+02  3.68454069e+02 -2.57257675e+02 -9.44790860e+01\n",
      " -1.43116161e+02 -2.29655616e+02  3.57042807e+02  2.56249338e+02\n",
      " -3.13866794e+02  2.67053848e+02  4.61855125e+02  3.16871274e+02\n",
      "  1.25131045e+02 -3.58965097e+01 -7.17113205e+01  3.06561917e+02\n",
      " -4.35261611e+01 -1.10103793e+02 -1.70163298e-01 -1.27704256e+02\n",
      " -1.69059585e+02  1.03886878e+02 -8.82285766e+01  1.53291118e+02\n",
      "  2.38417955e+02  3.92053970e+02  1.00502829e+01  6.22514990e+01\n",
      "  6.89570090e+01 -1.00746005e+00 -1.85864580e+02 -1.68561672e+02\n",
      " -5.24917077e+01  1.78802012e+02  1.05389037e+02 -2.71270619e+02\n",
      "  2.69331381e+02  2.50348713e+02  3.24685724e+02 -1.18774685e+02\n",
      "  2.56198897e+02 -3.80326434e+01  1.29987462e+02  2.21173366e+02\n",
      "  1.26413705e+02  3.02616554e+02  1.52259372e+02  2.54830176e+02\n",
      "  4.72504346e+01  1.49461372e+02 -2.70059925e+02  5.04132278e+01\n",
      "  3.32066214e+01  2.63744707e+02  1.02691386e+01 -2.71958200e+02\n",
      " -1.45871616e+02 -1.77356951e+02  1.59100038e+02 -3.08760275e+02\n",
      "  1.92104731e+02  1.29133797e+02 -1.53499082e+01 -8.71406023e+01\n",
      "  1.02447840e+01 -2.30560344e+02 -2.61587067e+02 -1.46521964e+02\n",
      " -3.39754100e+02  1.32281331e+01  1.11379593e+02  1.63556406e+02\n",
      " -2.33329813e+02  3.50993620e+02  1.75739584e+02 -1.11598513e+02\n",
      " -1.81799769e+01  4.50344326e+02 -3.23857448e+02 -1.07297625e+01\n",
      "  2.87738148e+01  1.38015008e+02  2.92937013e+02  1.24190605e+02\n",
      "  1.81300354e+02  3.56959001e+01  1.70322354e+01  2.16292253e+02\n",
      "  1.59349349e+02 -2.73405095e+02  3.20195773e+02 -9.56786493e+01\n",
      " -5.12553336e+01  2.18546374e+02  3.11761566e+02  8.49234770e+01\n",
      " -9.31834505e+01 -8.05458810e-01  2.24416694e+01  3.62110162e+01\n",
      "  2.10486355e+02 -5.13805054e+01 -1.92625550e+02 -2.57110573e+02\n",
      " -2.30697746e+02  1.76545051e+02  3.63527103e+01 -5.60124490e+01\n",
      "  7.76715890e+01  3.13223874e+02 -9.78189040e+00 -2.06701027e+02\n",
      "  4.81647962e+01 -7.66009826e+01  8.29718173e+01  1.26138241e+02\n",
      " -4.76120370e+01  3.17631010e+02 -1.97800765e+02 -7.82330103e+01\n",
      " -1.48283688e+02  2.79905041e+02  1.95364365e+02 -5.10258278e+02\n",
      "  1.80565907e+02 -1.17781291e+02 -1.58496925e+02  1.13439200e+02\n",
      " -3.35285970e+01 -7.37904779e+01  9.95084480e+01  8.34936976e+01\n",
      "  4.15488239e+01 -1.73058700e+02 -2.94768532e+01 -4.02487608e+02\n",
      " -1.89042764e+02  1.36685214e+02  1.99503088e+02  1.77077717e+02\n",
      " -5.31684524e+00  2.59613460e+02 -2.07553180e+02 -4.04225154e+02\n",
      " -2.91149862e+02  3.51101832e+02  5.19857094e+02  1.47594288e+02\n",
      "  3.36741796e+02  2.15463558e+02  2.46265615e+02  8.53571327e+00\n",
      "  3.56782405e+02  3.78957522e-01 -8.95056443e+01  2.06305523e+02\n",
      " -8.99027481e+00  5.18739374e+02 -2.06404069e+02  2.42272692e+02\n",
      "  6.42058258e+01 -1.26521182e+02  3.21799350e+02 -1.05605228e+01\n",
      "  5.70790129e+01  5.77575057e+02 -1.90866513e+01  1.72374398e+01\n",
      "  1.74531038e+01 -2.69961715e+02  1.15893206e+02  2.90830161e+01\n",
      " -8.61145510e+01 -1.80500567e+02  3.02631038e+01 -1.59697375e+02\n",
      " -1.10808630e+02  1.86768348e+02  2.79369072e+02 -9.90852644e+01\n",
      " -4.88226598e+01 -1.42280582e+02  5.92799635e+01 -1.51574949e+02\n",
      "  1.87598967e+02 -9.48260207e+01  6.19859697e+01 -1.90655181e+01\n",
      " -1.20850491e+02 -1.70609979e+02 -5.07920894e+01  6.73752111e+01\n",
      "  1.59478270e+02 -1.70887262e+02 -3.91559121e+02 -5.64235191e+02\n",
      " -1.23133460e+02 -1.53293485e+02 -3.16071821e+02 -9.26107311e+01\n",
      " -1.32104790e+02 -4.37959752e+02 -2.44436937e+02 -1.35769879e+01\n",
      "  1.36953142e+02 -6.97229017e-01  8.27541900e+01  4.38219647e+02\n",
      "  4.46848975e+01 -1.38906017e+02 -1.38434725e+02 -7.74284564e+01\n",
      "  6.95308356e+01  1.04164062e+02  1.00631192e+02  7.05617688e+01\n",
      " -1.33310413e+01  3.71766222e+02 -4.77939069e+00  1.26003952e+01\n",
      "  7.41478347e+01 -9.85357952e+01  2.23234960e+01  8.48890142e+01\n",
      "  1.71328113e+02  1.23854762e+02 -3.06752440e+02 -1.79907593e+02\n",
      " -2.15937391e+02  2.75668282e+02  2.67161712e+02  2.33391471e+02\n",
      " -4.36027787e+01 -1.30840819e+02  1.33347277e+02  2.99027812e+02\n",
      " -9.23179776e+01  4.38603674e+01  7.28689283e+01 -2.20605254e+02\n",
      "  1.88613517e+01 -2.16233904e+00  6.50602467e+01 -6.34684494e+01\n",
      " -4.46709434e+01  3.89324104e+01  1.31751455e+02  3.21897926e+02\n",
      "  9.56182777e+01 -2.21443697e+02  1.76390975e+02 -1.12912635e+02\n",
      "  1.74233483e+01 -9.17924463e+01 -2.42891643e+02  6.48838692e+01\n",
      "  3.36619376e+00 -1.39825061e+02 -2.95914148e+02  3.28796897e+01\n",
      " -1.35368691e+02 -2.73755338e+02  1.13106376e+02  1.51477736e+02\n",
      "  9.73312248e+01  2.63547613e+02 -1.09365969e+01 -1.97579860e+02\n",
      "  1.90329733e+02 -1.63203545e+02 -1.08878205e+02  3.39009221e+02\n",
      "  2.24411971e+02  1.67691044e+02 -1.90549284e+02 -1.90773680e+02\n",
      " -9.96700523e+01  1.39745069e+02  4.94717047e+02 -3.84065089e+02\n",
      "  1.98865432e+01 -2.16939845e+00  1.18799126e+02  1.54601160e+02\n",
      "  1.44975351e+02 -7.17906987e+00 -1.26464560e+02  1.55249530e+02\n",
      " -8.52962755e+01  1.13913327e+02 -6.73611423e+01 -2.47795889e+02\n",
      "  9.66797817e+00  2.81022215e+02  5.04641046e+01  6.00970567e+01\n",
      "  7.11379938e+01  1.85414155e+02  3.03669832e+01 -7.47872841e+01\n",
      " -9.99177826e+00  1.89325322e+02 -2.39754743e+01  1.98852342e+02\n",
      " -1.18633245e+02  1.86904298e+02 -3.36644436e+01 -1.89338422e+02\n",
      "  5.22126843e+00 -5.38734119e+02  4.78725097e+02  1.73371546e+02\n",
      " -1.17282430e+02  4.96610519e+01  3.23340000e+01 -3.04814302e+02\n",
      "  3.05161902e+02 -3.69325491e+02  1.89792311e+02  2.66500911e+01\n",
      " -5.29154408e+01 -3.39226961e+02 -8.51519323e+00  1.81450407e+01\n",
      " -4.35640507e+01 -3.69535510e+01 -5.15156205e+02 -2.98532190e+02\n",
      " -4.88166883e+02 -1.90009873e+02 -1.55800462e+02  1.14599401e+02\n",
      " -3.22767694e+02  3.99635950e+01  2.64925925e+02  4.47225159e+02\n",
      "  1.53136925e+01  2.14232396e+02  3.85830155e+02 -8.01833509e+01\n",
      "  9.51701793e+01 -2.24805649e+02 -3.63020541e+02 -2.42238865e+02\n",
      "  1.09874327e+02  2.16790140e+02 -1.14568624e+02 -1.11887508e+02\n",
      " -1.98196809e+02 -1.99213109e+01  4.11282155e+01 -1.93249142e+02\n",
      " -5.00646183e+02 -2.88166989e+01 -3.94265400e+02 -1.33536960e+02\n",
      "  2.77102134e+02  2.95423819e+01 -5.81168342e+01 -1.48822925e+02\n",
      " -9.47842947e+00  4.94744288e+01  2.05710312e+02 -3.20044202e+02\n",
      " -6.68273495e+01 -1.37934790e+01  1.79550795e+02  2.42144949e+02\n",
      " -2.16794810e+02  1.48676262e+02 -2.32372286e+02 -7.22223496e+01\n",
      "  3.27612504e+02  1.65772709e+01 -2.08410339e+02  1.83817726e+02\n",
      " -2.61175687e+02 -5.96278403e+01 -6.96624848e+01 -2.06436028e+02\n",
      " -2.36442156e+02  1.91402196e+02 -7.86394576e+01 -1.38927707e+02\n",
      " -2.17726617e+02 -5.12774356e+02 -4.88001663e+01  1.04111334e+02\n",
      " -1.47975150e+02  1.47377789e+02 -1.46323713e+02 -3.70256526e-01\n",
      " -1.79805412e+02 -4.74759939e+02  2.17364932e+02 -3.93973721e+01\n",
      "  5.67805333e+01 -1.40499168e+02  1.70808983e+02 -1.82350548e+01\n",
      " -4.96033533e+01 -3.39783478e+01 -2.73720901e+01  9.47224884e+01\n",
      "  8.13074423e+00 -2.76900544e+02  3.83646217e+02  2.31095345e+02\n",
      " -3.76560048e+02 -6.12478427e+01  1.77053145e+01 -1.03710448e+02\n",
      " -9.59145241e+00 -2.04342197e+02 -6.20276787e+02  2.14905769e+02\n",
      "  2.25906865e+02  4.04915439e+02 -3.79459936e+01 -1.21649602e+02\n",
      " -2.12584750e+02 -3.50985055e+01  6.60049813e+01 -1.66242703e+02\n",
      " -2.71638591e+01  2.64005874e+02 -5.84217462e+01 -2.31371494e+01\n",
      "  1.13324896e+02 -1.57701376e+02 -2.22186305e+02  1.33383802e+02\n",
      "  3.09085717e+02  1.65380354e+02  1.26841688e+02 -7.91650360e+01\n",
      "  1.73080711e+01 -3.69229301e+02 -1.56793952e+02 -3.01211008e+02\n",
      "  6.84223025e+01 -4.67985893e+01  1.47040728e+02  4.28132128e+02\n",
      " -5.98541514e+01 -3.72050173e+02  8.85384685e+01 -2.87722360e+02\n",
      " -2.06604430e+01 -1.95215200e+02  3.35625665e+02 -1.33883382e+02\n",
      "  1.38226678e+02 -1.79321097e+02 -1.37496320e+02  1.08598519e+02\n",
      "  1.32512020e+02 -2.04356714e+02  3.29015601e+01  2.86859201e+02\n",
      " -2.71365813e+02 -6.69998974e+01  2.58364216e+02  9.75364253e+01\n",
      " -1.63058953e+02 -1.31626753e+02 -1.95245386e+02  1.57995552e+02\n",
      "  3.39873603e+02  5.14950322e+02  8.42663504e+01 -1.94886276e+02\n",
      "  3.02657212e+02  8.99383029e+01 -1.39429695e+02 -9.41528395e+01\n",
      " -2.00198155e+02 -2.05653575e+02  4.59513485e+02 -1.29282700e+02\n",
      "  2.98903644e+02  2.72872985e+02 -8.23491816e+01  5.87085570e+01\n",
      "  1.25691127e+02  2.03298092e+02  6.30795244e+01  1.01988335e+02\n",
      "  1.62626622e+02  1.14040592e+02 -6.55673240e+02  4.83278864e+02\n",
      "  3.56535681e+01  3.88194296e+01 -1.63334184e+01  4.41732436e+01\n",
      " -7.66494979e+01  7.63561249e+01  2.23753895e+00  2.45271542e+02\n",
      " -4.57723346e+02  2.85354593e+01 -2.26291135e+02 -4.00290684e+01\n",
      "  2.11374797e+01  5.63477198e+01  6.33075911e+02 -4.98504048e+02\n",
      "  3.80855953e+02 -3.60445018e+01  4.84245818e+01 -7.04693759e+01\n",
      "  2.78215093e+01 -2.55958192e+02  4.50992567e+01 -1.81780660e+02\n",
      "  1.23153913e+01  3.08794301e+01 -1.46476194e+02  2.13650763e+02]\n"
     ]
    }
   ],
   "source": [
    "print('y:', y)"
   ]
  },
  {
   "cell_type": "code",
   "execution_count": 3,
   "metadata": {
    "colab": {
     "base_uri": "https://localhost:8080/",
     "height": 51
    },
    "colab_type": "code",
    "id": "jQP_4-QHPBBp",
    "outputId": "a43953b4-95f0-441c-c389-ff860e3bf522"
   },
   "outputs": [
    {
     "name": "stdout",
     "output_type": "stream",
     "text": [
      "Train (670, 100) (670,)\n",
      "Test (330, 100) (330,)\n"
     ]
    }
   ],
   "source": [
    "from sklearn.model_selection import train_test_split\n",
    "# split into train and test sets with 67 percent of the data for training and 33 percent for testing.\n",
    "X_train, X_test, y_train, y_test = train_test_split(X, y, test_size=0.33, random_state=1)\n",
    "# summarize\n",
    "print('Train', X_train.shape, y_train.shape)\n",
    "print('Test', X_test.shape, y_test.shape)"
   ]
  },
  {
   "cell_type": "markdown",
   "metadata": {
    "colab_type": "text",
    "id": "L3ZMox5kPslv"
   },
   "source": [
    "**2. Numerical Feature Selection**\n",
    "\n",
    "**2.1 Numerical Feature Selection - Correlation**"
   ]
  },
  {
   "cell_type": "code",
   "execution_count": 6,
   "metadata": {
    "colab": {
     "base_uri": "https://localhost:8080/",
     "height": 1000
    },
    "colab_type": "code",
    "id": "eF8J5F8iPqtA",
    "outputId": "d63e2a20-d93c-4da0-c075-7301c0df9a95"
   },
   "outputs": [
    {
     "name": "stdout",
     "output_type": "stream",
     "text": [
      "Feature 0: 0.009419\n",
      "Feature 1: 1.018881\n",
      "Feature 2: 1.205187\n",
      "Feature 3: 0.000138\n",
      "Feature 4: 0.167511\n",
      "Feature 5: 5.985083\n",
      "Feature 6: 0.062405\n",
      "Feature 7: 1.455257\n",
      "Feature 8: 0.420384\n",
      "Feature 9: 101.392225\n",
      "Feature 10: 0.387091\n",
      "Feature 11: 1.581124\n",
      "Feature 12: 3.014463\n",
      "Feature 13: 0.232705\n",
      "Feature 14: 0.076281\n",
      "Feature 15: 4.299652\n",
      "Feature 16: 1.497530\n",
      "Feature 17: 0.261242\n",
      "Feature 18: 5.960005\n",
      "Feature 19: 0.523219\n",
      "Feature 20: 0.003365\n",
      "Feature 21: 0.024178\n",
      "Feature 22: 0.220958\n",
      "Feature 23: 0.576770\n",
      "Feature 24: 0.627198\n",
      "Feature 25: 0.350687\n",
      "Feature 26: 0.281877\n",
      "Feature 27: 0.584210\n",
      "Feature 28: 52.196337\n",
      "Feature 29: 0.046855\n",
      "Feature 30: 0.147323\n",
      "Feature 31: 0.368485\n",
      "Feature 32: 0.077631\n",
      "Feature 33: 0.698140\n",
      "Feature 34: 45.744046\n",
      "Feature 35: 2.047376\n",
      "Feature 36: 0.786270\n",
      "Feature 37: 0.996190\n",
      "Feature 38: 2.733533\n",
      "Feature 39: 63.957656\n",
      "Feature 40: 231.885540\n",
      "Feature 41: 1.372448\n",
      "Feature 42: 0.581860\n",
      "Feature 43: 1.072930\n",
      "Feature 44: 1.066976\n",
      "Feature 45: 0.344656\n",
      "Feature 46: 13.951551\n",
      "Feature 47: 3.575080\n",
      "Feature 48: 0.007299\n",
      "Feature 49: 0.004651\n",
      "Feature 50: 1.094585\n",
      "Feature 51: 0.241065\n",
      "Feature 52: 0.355137\n",
      "Feature 53: 0.020294\n",
      "Feature 54: 0.154567\n",
      "Feature 55: 2.592512\n",
      "Feature 56: 0.300175\n",
      "Feature 57: 0.357798\n",
      "Feature 58: 3.060090\n",
      "Feature 59: 0.890357\n",
      "Feature 60: 122.132164\n",
      "Feature 61: 2.029982\n",
      "Feature 62: 0.091551\n",
      "Feature 63: 1.081123\n",
      "Feature 64: 0.056041\n",
      "Feature 65: 2.930717\n",
      "Feature 66: 0.054886\n",
      "Feature 67: 1.332787\n",
      "Feature 68: 0.145579\n",
      "Feature 69: 0.986331\n",
      "Feature 70: 0.092661\n",
      "Feature 71: 0.083219\n",
      "Feature 72: 0.198847\n",
      "Feature 73: 2.065792\n",
      "Feature 74: 0.236594\n",
      "Feature 75: 0.512608\n",
      "Feature 76: 1.095650\n",
      "Feature 77: 0.015359\n",
      "Feature 78: 2.193730\n",
      "Feature 79: 1.574530\n",
      "Feature 80: 5.360863\n",
      "Feature 81: 0.041874\n",
      "Feature 82: 5.717705\n",
      "Feature 83: 0.436560\n",
      "Feature 84: 5.594438\n",
      "Feature 85: 0.000065\n",
      "Feature 86: 0.026748\n",
      "Feature 87: 0.408422\n",
      "Feature 88: 2.092557\n",
      "Feature 89: 9.568498\n",
      "Feature 90: 0.642445\n",
      "Feature 91: 0.065794\n",
      "Feature 92: 198.705931\n",
      "Feature 93: 0.073807\n",
      "Feature 94: 1.048605\n",
      "Feature 95: 0.004106\n",
      "Feature 96: 0.042110\n",
      "Feature 97: 0.034228\n",
      "Feature 98: 0.792433\n",
      "Feature 99: 0.015365\n"
     ]
    },
    {
     "data": {
      "image/png": "[encoded data removed]",
      "text/plain": [
       "<Figure size 432x288 with 1 Axes>"
      ]
     },
     "metadata": {
      "needs_background": "light",
      "tags": []
     },
     "output_type": "display_data"
    }
   ],
   "source": [
    "from sklearn.feature_selection import SelectKBest\n",
    "from sklearn.feature_selection import f_regression\n",
    "from matplotlib import pyplot\n",
    "\n",
    "# wrap feature selection logic in a function\n",
    "def select_features_corr(X_train, y_train, X_test):\n",
    "\t# configure to select all features\n",
    "\tfs = SelectKBest(score_func=f_regression, k='all')\n",
    "\t# learn relationship from training data\n",
    "\tfs.fit(X_train, y_train)\n",
    "\t# transform train input data\n",
    "\tX_train_fs = fs.transform(X_train)\n",
    "\t# transform test input data\n",
    "\tX_test_fs = fs.transform(X_test)\n",
    "\treturn X_train_fs, X_test_fs, fs\n",
    "\n",
    "# feature selection using correlation, by default\n",
    "X_train_fs, X_test_fs, fs = select_features_corr(X_train, y_train, X_test)\n",
    "\n",
    "# what are scores for the features (ranging from less than 1 to 101)\n",
    "def show_scores():\n",
    "  for i in range(len(fs.scores_)):\n",
    "\t  print('Feature %d: %f' % (i, fs.scores_[i]))\n",
    "  # plot the scores\n",
    "  pyplot.bar([i for i in range(len(fs.scores_))], fs.scores_)\n",
    "  pyplot.show()\n",
    "\n",
    "show_scores()"
   ]
  },
  {
   "cell_type": "markdown",
   "metadata": {
    "colab_type": "text",
    "id": "CIFZIOrKSXeB"
   },
   "source": [
    "The bar chart above clearly shows 8 to 10 features are a lot more important than the other features. We could set k=10 When configuring the SelectKBest to select these top features."
   ]
  },
  {
   "cell_type": "markdown",
   "metadata": {
    "colab_type": "text",
    "id": "u-PooHLLS0Og"
   },
   "source": [
    "**2.2 Numerical Feature Selection - Mutual Information**"
   ]
  },
  {
   "cell_type": "code",
   "execution_count": 7,
   "metadata": {
    "colab": {
     "base_uri": "https://localhost:8080/",
     "height": 1000
    },
    "colab_type": "code",
    "id": "gvJQQ7uQTMI4",
    "outputId": "d383b305-82c3-48c8-c256-78eac68edb7a"
   },
   "outputs": [
    {
     "name": "stdout",
     "output_type": "stream",
     "text": [
      "Feature 0: 0.045484\n",
      "Feature 1: 0.000000\n",
      "Feature 2: 0.000000\n",
      "Feature 3: 0.000000\n",
      "Feature 4: 0.024816\n",
      "Feature 5: 0.000000\n",
      "Feature 6: 0.022659\n",
      "Feature 7: 0.000000\n",
      "Feature 8: 0.000000\n",
      "Feature 9: 0.074320\n",
      "Feature 10: 0.000000\n",
      "Feature 11: 0.000000\n",
      "Feature 12: 0.000000\n",
      "Feature 13: 0.000000\n",
      "Feature 14: 0.020390\n",
      "Feature 15: 0.004307\n",
      "Feature 16: 0.000000\n",
      "Feature 17: 0.000000\n",
      "Feature 18: 0.016566\n",
      "Feature 19: 0.003688\n",
      "Feature 20: 0.007579\n",
      "Feature 21: 0.018640\n",
      "Feature 22: 0.025206\n",
      "Feature 23: 0.017967\n",
      "Feature 24: 0.069173\n",
      "Feature 25: 0.000000\n",
      "Feature 26: 0.022232\n",
      "Feature 27: 0.000000\n",
      "Feature 28: 0.007849\n",
      "Feature 29: 0.012849\n",
      "Feature 30: 0.017402\n",
      "Feature 31: 0.008083\n",
      "Feature 32: 0.047321\n",
      "Feature 33: 0.002829\n",
      "Feature 34: 0.028968\n",
      "Feature 35: 0.000000\n",
      "Feature 36: 0.071652\n",
      "Feature 37: 0.027969\n",
      "Feature 38: 0.000000\n",
      "Feature 39: 0.064796\n",
      "Feature 40: 0.137695\n",
      "Feature 41: 0.008732\n",
      "Feature 42: 0.003983\n",
      "Feature 43: 0.000000\n",
      "Feature 44: 0.009387\n",
      "Feature 45: 0.000000\n",
      "Feature 46: 0.038385\n",
      "Feature 47: 0.000000\n",
      "Feature 48: 0.000000\n",
      "Feature 49: 0.000000\n",
      "Feature 50: 0.000000\n",
      "Feature 51: 0.000000\n",
      "Feature 52: 0.000000\n",
      "Feature 53: 0.008130\n",
      "Feature 54: 0.041779\n",
      "Feature 55: 0.000000\n",
      "Feature 56: 0.000000\n",
      "Feature 57: 0.000000\n",
      "Feature 58: 0.031228\n",
      "Feature 59: 0.002689\n",
      "Feature 60: 0.146192\n",
      "Feature 61: 0.000000\n",
      "Feature 62: 0.000000\n",
      "Feature 63: 0.000000\n",
      "Feature 64: 0.018194\n",
      "Feature 65: 0.021368\n",
      "Feature 66: 0.046071\n",
      "Feature 67: 0.034707\n",
      "Feature 68: 0.033530\n",
      "Feature 69: 0.002262\n",
      "Feature 70: 0.018332\n",
      "Feature 71: 0.000000\n",
      "Feature 72: 0.000000\n",
      "Feature 73: 0.074876\n",
      "Feature 74: 0.000000\n",
      "Feature 75: 0.004429\n",
      "Feature 76: 0.002617\n",
      "Feature 77: 0.031354\n",
      "Feature 78: 0.000000\n",
      "Feature 79: 0.000000\n",
      "Feature 80: 0.000000\n",
      "Feature 81: 0.033931\n",
      "Feature 82: 0.010400\n",
      "Feature 83: 0.019373\n",
      "Feature 84: 0.000000\n",
      "Feature 85: 0.033191\n",
      "Feature 86: 0.000000\n",
      "Feature 87: 0.028745\n",
      "Feature 88: 0.000000\n",
      "Feature 89: 0.000000\n",
      "Feature 90: 0.000000\n",
      "Feature 91: 0.017698\n",
      "Feature 92: 0.129797\n",
      "Feature 93: 0.000000\n",
      "Feature 94: 0.002171\n",
      "Feature 95: 0.029995\n",
      "Feature 96: 0.000000\n",
      "Feature 97: 0.014428\n",
      "Feature 98: 0.000000\n",
      "Feature 99: 0.000000\n"
     ]
    },
    {
     "data": {
      "image/png": "[encoded data removed]",
      "text/plain": [
       "<Figure size 432x288 with 1 Axes>"
      ]
     },
     "metadata": {
      "needs_background": "light",
      "tags": []
     },
     "output_type": "display_data"
    }
   ],
   "source": [
    "from sklearn.feature_selection import mutual_info_regression\n",
    "# configure to select all features\n",
    "# feature selection\n",
    "def select_features_mutualinfo(X_train, y_train, X_test):\n",
    "\t# configure to select all features\n",
    "\tfs = SelectKBest(score_func=mutual_info_regression, k='all')\n",
    "\t# learn relationship from training data\n",
    "\tfs.fit(X_train, y_train)\n",
    "\t# transform train input data\n",
    "\tX_train_fs = fs.transform(X_train)\n",
    "\t# transform test input data\n",
    "\tX_test_fs = fs.transform(X_test)\n",
    "\treturn X_train_fs, X_test_fs, fs\n",
    "\n",
    "# feature selection using correlation\n",
    "X_train_fs, X_test_fs, fs = select_features_mutualinfo(X_train, y_train, X_test)\n",
    "\n",
    "show_scores()"
   ]
  },
  {
   "cell_type": "code",
   "execution_count": 0,
   "metadata": {
    "colab": {},
    "colab_type": "code",
    "id": "TNjVDqn8h47S"
   },
   "outputs": [],
   "source": []
  },
  {
   "cell_type": "markdown",
   "metadata": {
    "colab_type": "text",
    "id": "PLCeqErFmdFg"
   },
   "source": [
    "**3. Modeling with Features**\n",
    "\n",
    "**3.1 Using All Features**"
   ]
  },
  {
   "cell_type": "code",
   "execution_count": 8,
   "metadata": {
    "colab": {
     "base_uri": "https://localhost:8080/",
     "height": 34
    },
    "colab_type": "code",
    "id": "igYnmN7smlKt",
    "outputId": "dc87a56d-3d0a-4dba-c87e-1111633b6c57"
   },
   "outputs": [
    {
     "name": "stdout",
     "output_type": "stream",
     "text": [
      "MAE: 0.086\n"
     ]
    }
   ],
   "source": [
    "from sklearn.linear_model import LinearRegression\n",
    "from sklearn.metrics import mean_absolute_error\n",
    "\n",
    "# fit the model\n",
    "model = LinearRegression()\n",
    "model.fit(X_train, y_train)\n",
    "# evaluate the model\n",
    "yhat = model.predict(X_test)\n",
    "# evaluate predictions\n",
    "mae = mean_absolute_error(y_test, yhat)\n",
    "print('MAE: %.3f' % mae)"
   ]
  },
  {
   "cell_type": "markdown",
   "metadata": {
    "colab_type": "text",
    "id": "hLKJbPkQqTX8"
   },
   "source": [
    "**3.2. Model with Correlation Features**"
   ]
  },
  {
   "cell_type": "markdown",
   "metadata": {
    "colab_type": "text",
    "id": "6qkMeSd4m3K1"
   },
   "source": [
    "Objective - use a subset or combination of features that achieves MAE < 0.086"
   ]
  },
  {
   "cell_type": "code",
   "execution_count": 10,
   "metadata": {
    "colab": {
     "base_uri": "https://localhost:8080/",
     "height": 34
    },
    "colab_type": "code",
    "id": "PDoU-_-GnAXm",
    "outputId": "639bfc39-1d59-409f-ee9d-b09bbcff8b05"
   },
   "outputs": [
    {
     "name": "stdout",
     "output_type": "stream",
     "text": [
      "MAE: 2.740\n"
     ]
    }
   ],
   "source": [
    "\n",
    "# feature selection\n",
    "def select_features_10_corr(X_train, y_train, X_test):\n",
    "\t# configure to select a subset of features\n",
    "\tfs = SelectKBest(score_func=f_regression, k=10)\n",
    "\t# learn relationship from training data\n",
    "\tfs.fit(X_train, y_train)\n",
    "\t# transform train input data\n",
    "\tX_train_fs = fs.transform(X_train)\n",
    "\t# transform test input data\n",
    "\tX_test_fs = fs.transform(X_test)\n",
    "\treturn X_train_fs, X_test_fs, fs\n",
    "\n",
    "# feature selection by correlation\n",
    "X_train_fs, X_test_fs, fs = select_features_10_corr(X_train, y_train, X_test)\n",
    "# fit the model\n",
    "model = LinearRegression()\n",
    "model.fit(X_train_fs, y_train)\n",
    "# evaluate the model\n",
    "yhat = model.predict(X_test_fs)\n",
    "# evaluate predictions\n",
    "mae = mean_absolute_error(y_test, yhat)\n",
    "print('MAE: %.3f' % mae)"
   ]
  },
  {
   "cell_type": "code",
   "execution_count": 11,
   "metadata": {
    "colab": {
     "base_uri": "https://localhost:8080/",
     "height": 34
    },
    "colab_type": "code",
    "id": "Cwq32CAKoLZH",
    "outputId": "321edc61-7b62-4cf7-9fc1-e9dfe591445d"
   },
   "outputs": [
    {
     "name": "stdout",
     "output_type": "stream",
     "text": [
      "MAE: 0.085\n"
     ]
    }
   ],
   "source": [
    "# feature selection\n",
    "def select_features_88_corr(X_train, y_train, X_test):\n",
    "\t# configure to select a subset of features\n",
    "\tfs = SelectKBest(score_func=f_regression, k=88)\n",
    "\t# learn relationship from training data\n",
    "\tfs.fit(X_train, y_train)\n",
    "\t# transform train input data\n",
    "\tX_train_fs = fs.transform(X_train)\n",
    "\t# transform test input data\n",
    "\tX_test_fs = fs.transform(X_test)\n",
    "\treturn X_train_fs, X_test_fs, fs\n",
    "\n",
    "  # feature selection\n",
    "X_train_fs, X_test_fs, fs = select_features_88_corr(X_train, y_train, X_test)\n",
    "# fit the model\n",
    "model = LinearRegression()\n",
    "model.fit(X_train_fs, y_train)\n",
    "# evaluate the model\n",
    "yhat = model.predict(X_test_fs)\n",
    "# evaluate predictions\n",
    "mae = mean_absolute_error(y_test, yhat)\n",
    "print('MAE: %.3f' % mae)"
   ]
  },
  {
   "cell_type": "markdown",
   "metadata": {
    "colab_type": "text",
    "id": "HWaHs-Q7pkgt"
   },
   "source": [
    "**Conclusion** - running the example reports the performance of the model on 88 of the 100 input features selected using the **correlation statistic** reduces MAE to 0.085"
   ]
  },
  {
   "cell_type": "markdown",
   "metadata": {
    "colab_type": "text",
    "id": "Iwxq6r5pqeF9"
   },
   "source": [
    "**3.3 Model with Mutual Information Features Subset**"
   ]
  },
  {
   "cell_type": "code",
   "execution_count": 12,
   "metadata": {
    "colab": {
     "base_uri": "https://localhost:8080/",
     "height": 34
    },
    "colab_type": "code",
    "id": "F18GjwdxpoId",
    "outputId": "84b07bde-9fd1-4861-cfcb-03882e7721e7"
   },
   "outputs": [
    {
     "name": "stdout",
     "output_type": "stream",
     "text": [
      "MAE: 0.084\n"
     ]
    }
   ],
   "source": [
    "# feature selection\n",
    "def select_features_88_mutualinfo(X_train, y_train, X_test):\n",
    "\t# configure to select a subset of features\n",
    "\tfs = SelectKBest(score_func=mutual_info_regression, k=88)\n",
    "\t# learn relationship from training data\n",
    "\tfs.fit(X_train, y_train)\n",
    "\t# transform train input data\n",
    "\tX_train_fs = fs.transform(X_train)\n",
    "\t# transform test input data\n",
    "\tX_test_fs = fs.transform(X_test)\n",
    "\treturn X_train_fs, X_test_fs, fs\n",
    "\n",
    "# feature selection\n",
    "X_train_fs, X_test_fs, fs = select_features_88_mutualinfo(X_train, y_train, X_test)\n",
    "# fit the model\n",
    "model = LinearRegression()\n",
    "model.fit(X_train_fs, y_train)\n",
    "# evaluate the model\n",
    "yhat = model.predict(X_test_fs)\n",
    "# evaluate predictions\n",
    "mae = mean_absolute_error(y_test, yhat)\n",
    "print('MAE: %.3f' % mae)"
   ]
  },
  {
   "cell_type": "markdown",
   "metadata": {
    "colab_type": "text",
    "id": "j6oMs68IqB3P"
   },
   "source": [
    "**Conclusion** - running the example reports the performance of the model on 88 of the 100 input features selected using the **mutuual information statistic** reduces MAE to 0.085"
   ]
  },
  {
   "cell_type": "markdown",
   "metadata": {
    "colab_type": "text",
    "id": "o_6x4AA0q9-W"
   },
   "source": [
    "**4. Tune the Number of Selected Features**"
   ]
  },
  {
   "cell_type": "code",
   "execution_count": 16,
   "metadata": {
    "colab": {
     "base_uri": "https://localhost:8080/",
     "height": 232
    },
    "colab_type": "code",
    "id": "EzRp14IlqJ_O",
    "outputId": "e798d200-fee3-4d42-c411-d6c475cc9822"
   },
   "outputs": [
    {
     "ename": "NameError",
     "evalue": "ignored",
     "output_type": "error",
     "traceback": [
      "\u001b[0;31m---------------------------------------------------------------------------\u001b[0m",
      "\u001b[0;31mNameError\u001b[0m                                 Traceback (most recent call last)",
      "\u001b[0;32m<ipython-input-16-26872aa3b9f9>\u001b[0m in \u001b[0;36m<module>\u001b[0;34m()\u001b[0m\n\u001b[1;32m     13\u001b[0m         \u001b[0;31m# evaluate the model\u001b[0m\u001b[0;34m\u001b[0m\u001b[0;34m\u001b[0m\u001b[0;34m\u001b[0m\u001b[0m\n\u001b[1;32m     14\u001b[0m         \u001b[0mcv\u001b[0m \u001b[0;34m=\u001b[0m \u001b[0mRepeatedKFold\u001b[0m\u001b[0;34m(\u001b[0m\u001b[0mn_splits\u001b[0m\u001b[0;34m=\u001b[0m\u001b[0;36m10\u001b[0m\u001b[0;34m,\u001b[0m \u001b[0mn_repeats\u001b[0m\u001b[0;34m=\u001b[0m\u001b[0;36m3\u001b[0m\u001b[0;34m,\u001b[0m \u001b[0mrandom_state\u001b[0m\u001b[0;34m=\u001b[0m\u001b[0;36m1\u001b[0m\u001b[0;34m)\u001b[0m\u001b[0;34m\u001b[0m\u001b[0;34m\u001b[0m\u001b[0m\n\u001b[0;32m---> 15\u001b[0;31m         \u001b[0mscores\u001b[0m \u001b[0;34m=\u001b[0m \u001b[0mcross_val_score\u001b[0m\u001b[0;34m(\u001b[0m\u001b[0mpipeline\u001b[0m\u001b[0;34m,\u001b[0m \u001b[0mX\u001b[0m\u001b[0;34m,\u001b[0m \u001b[0my\u001b[0m\u001b[0;34m,\u001b[0m \u001b[0mscoring\u001b[0m\u001b[0;34m=\u001b[0m\u001b[0;34m'neg_mean_absolute_error'\u001b[0m\u001b[0;34m,\u001b[0m \u001b[0mcv\u001b[0m\u001b[0;34m=\u001b[0m\u001b[0mcv\u001b[0m\u001b[0;34m,\u001b[0m \u001b[0mn_jobs\u001b[0m\u001b[0;34m=\u001b[0m\u001b[0;34m-\u001b[0m\u001b[0;36m1\u001b[0m\u001b[0;34m)\u001b[0m\u001b[0;34m\u001b[0m\u001b[0;34m\u001b[0m\u001b[0m\n\u001b[0m\u001b[1;32m     16\u001b[0m         \u001b[0mresults\u001b[0m\u001b[0;34m.\u001b[0m\u001b[0mappend\u001b[0m\u001b[0;34m(\u001b[0m\u001b[0mscores\u001b[0m\u001b[0;34m)\u001b[0m\u001b[0;34m\u001b[0m\u001b[0;34m\u001b[0m\u001b[0m\n\u001b[1;32m     17\u001b[0m         \u001b[0;31m# summarize the results\u001b[0m\u001b[0;34m\u001b[0m\u001b[0;34m\u001b[0m\u001b[0;34m\u001b[0m\u001b[0m\n",
      "\u001b[0;31mNameError\u001b[0m: name 'cross_val_score' is not defined"
     ]
    }
   ],
   "source": [
    "from sklearn.pipeline import Pipeline\n",
    "from sklearn.model_selection import GridSearchCV\n",
    "from sklearn.model_selection import RepeatedKFold\n",
    "\n",
    "num_features = [i for i in range(X.shape[1]-19, X.shape[1]+1)]\n",
    "# enumerate each number of features\n",
    "results = list()\n",
    "for k in num_features:\n",
    "\t# create pipeline\n",
    "\tmodel = LinearRegression()\n",
    "\tfs = SelectKBest(score_func=mutual_info_regression, k=k)\n",
    "\tpipeline = Pipeline(steps=[('sel',fs), ('lr', model)])\n",
    "\t# evaluate the model\n",
    "\tcv = RepeatedKFold(n_splits=10, n_repeats=3, random_state=1)\n",
    "\tscores = cross_val_score(pipeline, X, y, scoring='neg_mean_absolute_error', cv=cv, n_jobs=-1)\n",
    "\tresults.append(scores)\n",
    "\t# summarize the results\n",
    "\tprint('>%d %.3f (%.3f)' % (k, mean(scores), std(scores)))\n",
    "# plot model performance for comparison\n",
    "pyplot.boxplot(results, labels=num_features, showmeans=True)\n",
    "pyplot.show()"
   ]
  },
  {
   "cell_type": "markdown",
   "metadata": {
    "colab_type": "text",
    "id": "BOz1u_Vhsw9n"
   },
   "source": [
    "**Resources**\n",
    "\n",
    "* [Rergression Features Selection](https://machinelearningmastery.com/feature-selection-for-regression-data/) by Jason Brownlee"
   ]
  }
 ],
 "metadata": {
  "colab": {
   "authorship_tag": "ABX9TyN8QMmvX+O/LpoCedoNXngQ",
   "collapsed_sections": [],
   "include_colab_link": true,
   "name": "regression_feature_selection.ipynb",
   "provenance": []
  },
  "kernelspec": {
   "display_name": "Python 3",
   "language": "python",
   "name": "python3"
  },
  "language_info": {
   "codemirror_mode": {
    "name": "ipython",
    "version": 3
   },
   "file_extension": ".py",
   "mimetype": "text/x-python",
   "name": "python",
   "nbconvert_exporter": "python",
   "pygments_lexer": "ipython3",
   "version": "3.7.4"
  }
 },
 "nbformat": 4,
 "nbformat_minor": 1
}

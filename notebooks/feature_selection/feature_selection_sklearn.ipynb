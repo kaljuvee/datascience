{
  "nbformat": 4,
  "nbformat_minor": 0,
  "metadata": {
    "colab": {
      "name": "feature_selection_sklearn.ipynb",
      "provenance": [],
      "collapsed_sections": []
    },
    "kernelspec": {
      "display_name": "Python 3",
      "language": "python",
      "name": "python3"
    },
    "language_info": {
      "codemirror_mode": {
        "name": "ipython",
        "version": 3
      },
      "file_extension": ".py",
      "mimetype": "text/x-python",
      "name": "python",
      "nbconvert_exporter": "python",
      "pygments_lexer": "ipython3",
      "version": "3.7.4"
    }
  },
  "cells": [
    {
      "cell_type": "markdown",
      "metadata": {
        "id": "view-in-github"
      },
      "source": [
        "<a href=\"https://colab.research.google.com/github/kaljuvee/datascience/blob/master/notebooks/stats/regression_feature_selection.ipynb\" target=\"_parent\"><img src=\"https://colab.research.google.com/assets/colab-badge.svg\" alt=\"Open In Colab\"/></a>"
      ]
    },
    {
      "cell_type": "code",
      "metadata": {
        "id": "6NSRSE_SLz9m",
        "colab": {
          "base_uri": "https://localhost:8080/"
        },
        "outputId": "28abbc3e-479b-4fda-8db9-8e3749c19397"
      },
      "source": [
        "import statsmodels.api as sm\n",
        "import numpy as np \n",
        "from sklearn.preprocessing import MinMaxScaler\n",
        "from sklearn.linear_model import LinearRegression\n",
        "from sklearn.metrics import r2_score\n",
        "from sklearn.datasets import make_regression\n",
        "import pandas as pd\n"
      ],
      "execution_count": 1,
      "outputs": [
        {
          "output_type": "stream",
          "text": [
            "/usr/local/lib/python3.7/dist-packages/statsmodels/tools/_testing.py:19: FutureWarning: pandas.util.testing is deprecated. Use the functions in the public API at pandas.testing instead.\n",
            "  import pandas.util.testing as tm\n"
          ],
          "name": "stderr"
        }
      ]
    },
    {
      "cell_type": "markdown",
      "metadata": {
        "id": "NEykllYZMT9Y"
      },
      "source": [
        "**Background**\n",
        "\n",
        "The simplest case of feature selection is the case where there are numerical input variables and a numerical target for regression predictive modeling, and this can often be done with statistical methods **correlation** and **mutual information**.\n",
        "\n",
        "\n",
        "**Overview**\n",
        "\n",
        "We demonstrate the following classical feature selection methods:\n",
        "\n",
        "* **Correlation and mutual statistics** - evaluate the importance of numerical input data using the correlation \n",
        "and mutual information statistics.\n",
        "* **Numerical feature selection** - perform feature selection for numerical input data when fitting and evaluating a regression model\n",
        "* **Tuning with grid search** -  tune the number of features selected in a modeling pipeline using a grid search\n",
        "\n",
        "**Model Pipeline**\n",
        "\n",
        "1. Load and Convert Regression Dataset\n",
        "2. Numerical Feature Selection\n",
        "  1. Correlation Feature Selection\n",
        "  2. Mutual Information Feature Selection\n",
        "3. Modeling With Selected Features\n",
        "  1. Model Built Using All Features\n",
        "4. Tune the Number of Selected Features\n",
        "\n",
        "**References**\n",
        "\n",
        "* [Regression Feature Selection](https://machinelearningmastery.com/feature-selection-for-regression-data/)\n",
        "* [scikit-learn](https://scikit-learn.org/)\n"
      ]
    },
    {
      "cell_type": "markdown",
      "metadata": {
        "id": "0o24pYMjPlQZ"
      },
      "source": [
        "**1. Load and Normalise Data Sets**"
      ]
    },
    {
      "cell_type": "code",
      "metadata": {
        "id": "31hln2kU-dYq",
        "colab": {
          "base_uri": "https://localhost:8080/"
        },
        "outputId": "d96e7b32-ab67-4ce4-db31-7db16c43c369"
      },
      "source": [
        "revenue_df = pd.read_csv('data/total_revenues_smartphone_sales_datetime.csv')\n",
        "output_scaler = MinMaxScaler()\n",
        "revenue_df['total_revenues'] = output_scaler.fit_transform(np.array(revenue_df['total_revenues']).reshape(-1, 1))\n",
        "revenue_df.shape\n",
        "# we expect 30 columns, excluding output variable and time index, and 37 quarterly data points"
      ],
      "execution_count": 2,
      "outputs": [
        {
          "output_type": "execute_result",
          "data": {
            "text/plain": [
              "(37, 32)"
            ]
          },
          "metadata": {
            "tags": []
          },
          "execution_count": 2
        }
      ]
    },
    {
      "cell_type": "code",
      "metadata": {
        "id": "znu2PXos-HG3",
        "colab": {
          "base_uri": "https://localhost:8080/",
          "height": 329
        },
        "outputId": "1c1aead6-2b16-4e60-d257-e7cf4c81f7eb"
      },
      "source": [
        "revenue_df.head()"
      ],
      "execution_count": 3,
      "outputs": [
        {
          "output_type": "execute_result",
          "data": {
            "text/html": [
              "<div>\n",
              "<style scoped>\n",
              "    .dataframe tbody tr th:only-of-type {\n",
              "        vertical-align: middle;\n",
              "    }\n",
              "\n",
              "    .dataframe tbody tr th {\n",
              "        vertical-align: top;\n",
              "    }\n",
              "\n",
              "    .dataframe thead th {\n",
              "        text-align: right;\n",
              "    }\n",
              "</style>\n",
              "<table border=\"1\" class=\"dataframe\">\n",
              "  <thead>\n",
              "    <tr style=\"text-align: right;\">\n",
              "      <th></th>\n",
              "      <th>Month</th>\n",
              "      <th>total_revenues</th>\n",
              "      <th>Alcatel</th>\n",
              "      <th>Apple</th>\n",
              "      <th>Asus</th>\n",
              "      <th>BlackBerry</th>\n",
              "      <th>Coolpad</th>\n",
              "      <th>Fujitsu</th>\n",
              "      <th>Gionee</th>\n",
              "      <th>HMD</th>\n",
              "      <th>HTC</th>\n",
              "      <th>Huawei</th>\n",
              "      <th>iTel</th>\n",
              "      <th>Lenovo</th>\n",
              "      <th>LG</th>\n",
              "      <th>Meizu</th>\n",
              "      <th>Micromax</th>\n",
              "      <th>Motorola</th>\n",
              "      <th>Nokia</th>\n",
              "      <th>Oppo</th>\n",
              "      <th>Others</th>\n",
              "      <th>Panasonic</th>\n",
              "      <th>Pantech</th>\n",
              "      <th>Samsung</th>\n",
              "      <th>Sharp</th>\n",
              "      <th>Sony</th>\n",
              "      <th>Tecno</th>\n",
              "      <th>Vivo</th>\n",
              "      <th>Wiko</th>\n",
              "      <th>Xiaomi</th>\n",
              "      <th>ZTE</th>\n",
              "      <th>Grand Total</th>\n",
              "    </tr>\n",
              "  </thead>\n",
              "  <tbody>\n",
              "    <tr>\n",
              "      <th>0</th>\n",
              "      <td>3-2011</td>\n",
              "      <td>0.000000</td>\n",
              "      <td>0.02</td>\n",
              "      <td>18.6</td>\n",
              "      <td>0.20</td>\n",
              "      <td>13.8</td>\n",
              "      <td>1.60</td>\n",
              "      <td>1.4</td>\n",
              "      <td>0.7</td>\n",
              "      <td>0.0</td>\n",
              "      <td>9.60</td>\n",
              "      <td>2.3</td>\n",
              "      <td>0.0</td>\n",
              "      <td>1.0</td>\n",
              "      <td>4.1025</td>\n",
              "      <td>0.10</td>\n",
              "      <td>0.00</td>\n",
              "      <td>4.10</td>\n",
              "      <td>24.2</td>\n",
              "      <td>0.0</td>\n",
              "      <td>5.4982</td>\n",
              "      <td>0.05</td>\n",
              "      <td>0.43</td>\n",
              "      <td>12.5993</td>\n",
              "      <td>1.1</td>\n",
              "      <td>4.0</td>\n",
              "      <td>0.0</td>\n",
              "      <td>0.0</td>\n",
              "      <td>0.0</td>\n",
              "      <td>0.00</td>\n",
              "      <td>1.4</td>\n",
              "      <td>106.80</td>\n",
              "    </tr>\n",
              "    <tr>\n",
              "      <th>1</th>\n",
              "      <td>6-2011</td>\n",
              "      <td>0.023668</td>\n",
              "      <td>0.14</td>\n",
              "      <td>20.3</td>\n",
              "      <td>0.25</td>\n",
              "      <td>12.6</td>\n",
              "      <td>1.80</td>\n",
              "      <td>1.5</td>\n",
              "      <td>1.0</td>\n",
              "      <td>0.0</td>\n",
              "      <td>11.85</td>\n",
              "      <td>3.0</td>\n",
              "      <td>0.0</td>\n",
              "      <td>1.3</td>\n",
              "      <td>6.1995</td>\n",
              "      <td>0.10</td>\n",
              "      <td>0.00</td>\n",
              "      <td>4.40</td>\n",
              "      <td>16.7</td>\n",
              "      <td>0.0</td>\n",
              "      <td>6.7520</td>\n",
              "      <td>0.05</td>\n",
              "      <td>0.60</td>\n",
              "      <td>20.1985</td>\n",
              "      <td>1.0</td>\n",
              "      <td>4.4</td>\n",
              "      <td>0.0</td>\n",
              "      <td>0.0</td>\n",
              "      <td>0.0</td>\n",
              "      <td>0.00</td>\n",
              "      <td>2.5</td>\n",
              "      <td>116.64</td>\n",
              "    </tr>\n",
              "    <tr>\n",
              "      <th>2</th>\n",
              "      <td>9-2011</td>\n",
              "      <td>0.070400</td>\n",
              "      <td>0.35</td>\n",
              "      <td>17.1</td>\n",
              "      <td>0.25</td>\n",
              "      <td>11.7</td>\n",
              "      <td>2.15</td>\n",
              "      <td>1.2</td>\n",
              "      <td>1.3</td>\n",
              "      <td>0.0</td>\n",
              "      <td>13.15</td>\n",
              "      <td>4.8</td>\n",
              "      <td>0.0</td>\n",
              "      <td>1.7</td>\n",
              "      <td>4.4030</td>\n",
              "      <td>0.20</td>\n",
              "      <td>0.00</td>\n",
              "      <td>4.90</td>\n",
              "      <td>16.8</td>\n",
              "      <td>0.0</td>\n",
              "      <td>7.7655</td>\n",
              "      <td>0.10</td>\n",
              "      <td>0.85</td>\n",
              "      <td>28.1015</td>\n",
              "      <td>1.2</td>\n",
              "      <td>6.2</td>\n",
              "      <td>0.0</td>\n",
              "      <td>0.0</td>\n",
              "      <td>0.0</td>\n",
              "      <td>0.08</td>\n",
              "      <td>3.6</td>\n",
              "      <td>127.90</td>\n",
              "    </tr>\n",
              "    <tr>\n",
              "      <th>3</th>\n",
              "      <td>12-2011</td>\n",
              "      <td>0.065626</td>\n",
              "      <td>0.55</td>\n",
              "      <td>37.0</td>\n",
              "      <td>0.25</td>\n",
              "      <td>13.4</td>\n",
              "      <td>3.20</td>\n",
              "      <td>1.6</td>\n",
              "      <td>1.7</td>\n",
              "      <td>0.0</td>\n",
              "      <td>10.20</td>\n",
              "      <td>6.7</td>\n",
              "      <td>0.0</td>\n",
              "      <td>5.0</td>\n",
              "      <td>5.5020</td>\n",
              "      <td>0.25</td>\n",
              "      <td>0.00</td>\n",
              "      <td>5.30</td>\n",
              "      <td>19.6</td>\n",
              "      <td>0.0</td>\n",
              "      <td>8.0380</td>\n",
              "      <td>0.15</td>\n",
              "      <td>1.22</td>\n",
              "      <td>36.5000</td>\n",
              "      <td>1.2</td>\n",
              "      <td>6.4</td>\n",
              "      <td>0.0</td>\n",
              "      <td>0.0</td>\n",
              "      <td>0.0</td>\n",
              "      <td>0.40</td>\n",
              "      <td>5.4</td>\n",
              "      <td>169.56</td>\n",
              "    </tr>\n",
              "    <tr>\n",
              "      <th>4</th>\n",
              "      <td>3-2012</td>\n",
              "      <td>0.078637</td>\n",
              "      <td>0.70</td>\n",
              "      <td>35.1</td>\n",
              "      <td>0.30</td>\n",
              "      <td>9.9</td>\n",
              "      <td>3.80</td>\n",
              "      <td>2.6</td>\n",
              "      <td>1.8</td>\n",
              "      <td>0.0</td>\n",
              "      <td>6.70</td>\n",
              "      <td>4.7</td>\n",
              "      <td>0.0</td>\n",
              "      <td>4.7</td>\n",
              "      <td>4.9000</td>\n",
              "      <td>0.35</td>\n",
              "      <td>0.11</td>\n",
              "      <td>5.12</td>\n",
              "      <td>11.9</td>\n",
              "      <td>1.3</td>\n",
              "      <td>9.3200</td>\n",
              "      <td>0.20</td>\n",
              "      <td>1.30</td>\n",
              "      <td>44.4000</td>\n",
              "      <td>1.3</td>\n",
              "      <td>5.8</td>\n",
              "      <td>0.0</td>\n",
              "      <td>0.0</td>\n",
              "      <td>0.0</td>\n",
              "      <td>1.20</td>\n",
              "      <td>4.5</td>\n",
              "      <td>162.00</td>\n",
              "    </tr>\n",
              "  </tbody>\n",
              "</table>\n",
              "</div>"
            ],
            "text/plain": [
              "     Month  total_revenues  Alcatel  Apple  ...  Wiko  Xiaomi  ZTE  Grand Total\n",
              "0   3-2011        0.000000     0.02   18.6  ...   0.0    0.00  1.4       106.80\n",
              "1   6-2011        0.023668     0.14   20.3  ...   0.0    0.00  2.5       116.64\n",
              "2   9-2011        0.070400     0.35   17.1  ...   0.0    0.08  3.6       127.90\n",
              "3  12-2011        0.065626     0.55   37.0  ...   0.0    0.40  5.4       169.56\n",
              "4   3-2012        0.078637     0.70   35.1  ...   0.0    1.20  4.5       162.00\n",
              "\n",
              "[5 rows x 32 columns]"
            ]
          },
          "metadata": {
            "tags": []
          },
          "execution_count": 3
        }
      ]
    },
    {
      "cell_type": "code",
      "metadata": {
        "id": "tol4M8J6-dYv",
        "colab": {
          "base_uri": "https://localhost:8080/"
        },
        "outputId": "e55934be-dbc4-4518-a263-e95938535e19"
      },
      "source": [
        "y_df = revenue_df['total_revenues']\n",
        "y_df.head()"
      ],
      "execution_count": 4,
      "outputs": [
        {
          "output_type": "execute_result",
          "data": {
            "text/plain": [
              "0    0.000000\n",
              "1    0.023668\n",
              "2    0.070400\n",
              "3    0.065626\n",
              "4    0.078637\n",
              "Name: total_revenues, dtype: float64"
            ]
          },
          "metadata": {
            "tags": []
          },
          "execution_count": 4
        }
      ]
    },
    {
      "cell_type": "code",
      "metadata": {
        "id": "zFYkuUdx-dYz",
        "colab": {
          "base_uri": "https://localhost:8080/",
          "height": 329
        },
        "outputId": "e4bb12b7-706c-4264-b154-696b51ddaaa0"
      },
      "source": [
        "# Select all features as regressors excluding target variable -  total revenues\n",
        "X_df = revenue_df.loc[:, revenue_df.columns != 'total_revenues']\n",
        "X_df.head()"
      ],
      "execution_count": 5,
      "outputs": [
        {
          "output_type": "execute_result",
          "data": {
            "text/html": [
              "<div>\n",
              "<style scoped>\n",
              "    .dataframe tbody tr th:only-of-type {\n",
              "        vertical-align: middle;\n",
              "    }\n",
              "\n",
              "    .dataframe tbody tr th {\n",
              "        vertical-align: top;\n",
              "    }\n",
              "\n",
              "    .dataframe thead th {\n",
              "        text-align: right;\n",
              "    }\n",
              "</style>\n",
              "<table border=\"1\" class=\"dataframe\">\n",
              "  <thead>\n",
              "    <tr style=\"text-align: right;\">\n",
              "      <th></th>\n",
              "      <th>Month</th>\n",
              "      <th>Alcatel</th>\n",
              "      <th>Apple</th>\n",
              "      <th>Asus</th>\n",
              "      <th>BlackBerry</th>\n",
              "      <th>Coolpad</th>\n",
              "      <th>Fujitsu</th>\n",
              "      <th>Gionee</th>\n",
              "      <th>HMD</th>\n",
              "      <th>HTC</th>\n",
              "      <th>Huawei</th>\n",
              "      <th>iTel</th>\n",
              "      <th>Lenovo</th>\n",
              "      <th>LG</th>\n",
              "      <th>Meizu</th>\n",
              "      <th>Micromax</th>\n",
              "      <th>Motorola</th>\n",
              "      <th>Nokia</th>\n",
              "      <th>Oppo</th>\n",
              "      <th>Others</th>\n",
              "      <th>Panasonic</th>\n",
              "      <th>Pantech</th>\n",
              "      <th>Samsung</th>\n",
              "      <th>Sharp</th>\n",
              "      <th>Sony</th>\n",
              "      <th>Tecno</th>\n",
              "      <th>Vivo</th>\n",
              "      <th>Wiko</th>\n",
              "      <th>Xiaomi</th>\n",
              "      <th>ZTE</th>\n",
              "      <th>Grand Total</th>\n",
              "    </tr>\n",
              "  </thead>\n",
              "  <tbody>\n",
              "    <tr>\n",
              "      <th>0</th>\n",
              "      <td>3-2011</td>\n",
              "      <td>0.02</td>\n",
              "      <td>18.6</td>\n",
              "      <td>0.20</td>\n",
              "      <td>13.8</td>\n",
              "      <td>1.60</td>\n",
              "      <td>1.4</td>\n",
              "      <td>0.7</td>\n",
              "      <td>0.0</td>\n",
              "      <td>9.60</td>\n",
              "      <td>2.3</td>\n",
              "      <td>0.0</td>\n",
              "      <td>1.0</td>\n",
              "      <td>4.1025</td>\n",
              "      <td>0.10</td>\n",
              "      <td>0.00</td>\n",
              "      <td>4.10</td>\n",
              "      <td>24.2</td>\n",
              "      <td>0.0</td>\n",
              "      <td>5.4982</td>\n",
              "      <td>0.05</td>\n",
              "      <td>0.43</td>\n",
              "      <td>12.5993</td>\n",
              "      <td>1.1</td>\n",
              "      <td>4.0</td>\n",
              "      <td>0.0</td>\n",
              "      <td>0.0</td>\n",
              "      <td>0.0</td>\n",
              "      <td>0.00</td>\n",
              "      <td>1.4</td>\n",
              "      <td>106.80</td>\n",
              "    </tr>\n",
              "    <tr>\n",
              "      <th>1</th>\n",
              "      <td>6-2011</td>\n",
              "      <td>0.14</td>\n",
              "      <td>20.3</td>\n",
              "      <td>0.25</td>\n",
              "      <td>12.6</td>\n",
              "      <td>1.80</td>\n",
              "      <td>1.5</td>\n",
              "      <td>1.0</td>\n",
              "      <td>0.0</td>\n",
              "      <td>11.85</td>\n",
              "      <td>3.0</td>\n",
              "      <td>0.0</td>\n",
              "      <td>1.3</td>\n",
              "      <td>6.1995</td>\n",
              "      <td>0.10</td>\n",
              "      <td>0.00</td>\n",
              "      <td>4.40</td>\n",
              "      <td>16.7</td>\n",
              "      <td>0.0</td>\n",
              "      <td>6.7520</td>\n",
              "      <td>0.05</td>\n",
              "      <td>0.60</td>\n",
              "      <td>20.1985</td>\n",
              "      <td>1.0</td>\n",
              "      <td>4.4</td>\n",
              "      <td>0.0</td>\n",
              "      <td>0.0</td>\n",
              "      <td>0.0</td>\n",
              "      <td>0.00</td>\n",
              "      <td>2.5</td>\n",
              "      <td>116.64</td>\n",
              "    </tr>\n",
              "    <tr>\n",
              "      <th>2</th>\n",
              "      <td>9-2011</td>\n",
              "      <td>0.35</td>\n",
              "      <td>17.1</td>\n",
              "      <td>0.25</td>\n",
              "      <td>11.7</td>\n",
              "      <td>2.15</td>\n",
              "      <td>1.2</td>\n",
              "      <td>1.3</td>\n",
              "      <td>0.0</td>\n",
              "      <td>13.15</td>\n",
              "      <td>4.8</td>\n",
              "      <td>0.0</td>\n",
              "      <td>1.7</td>\n",
              "      <td>4.4030</td>\n",
              "      <td>0.20</td>\n",
              "      <td>0.00</td>\n",
              "      <td>4.90</td>\n",
              "      <td>16.8</td>\n",
              "      <td>0.0</td>\n",
              "      <td>7.7655</td>\n",
              "      <td>0.10</td>\n",
              "      <td>0.85</td>\n",
              "      <td>28.1015</td>\n",
              "      <td>1.2</td>\n",
              "      <td>6.2</td>\n",
              "      <td>0.0</td>\n",
              "      <td>0.0</td>\n",
              "      <td>0.0</td>\n",
              "      <td>0.08</td>\n",
              "      <td>3.6</td>\n",
              "      <td>127.90</td>\n",
              "    </tr>\n",
              "    <tr>\n",
              "      <th>3</th>\n",
              "      <td>12-2011</td>\n",
              "      <td>0.55</td>\n",
              "      <td>37.0</td>\n",
              "      <td>0.25</td>\n",
              "      <td>13.4</td>\n",
              "      <td>3.20</td>\n",
              "      <td>1.6</td>\n",
              "      <td>1.7</td>\n",
              "      <td>0.0</td>\n",
              "      <td>10.20</td>\n",
              "      <td>6.7</td>\n",
              "      <td>0.0</td>\n",
              "      <td>5.0</td>\n",
              "      <td>5.5020</td>\n",
              "      <td>0.25</td>\n",
              "      <td>0.00</td>\n",
              "      <td>5.30</td>\n",
              "      <td>19.6</td>\n",
              "      <td>0.0</td>\n",
              "      <td>8.0380</td>\n",
              "      <td>0.15</td>\n",
              "      <td>1.22</td>\n",
              "      <td>36.5000</td>\n",
              "      <td>1.2</td>\n",
              "      <td>6.4</td>\n",
              "      <td>0.0</td>\n",
              "      <td>0.0</td>\n",
              "      <td>0.0</td>\n",
              "      <td>0.40</td>\n",
              "      <td>5.4</td>\n",
              "      <td>169.56</td>\n",
              "    </tr>\n",
              "    <tr>\n",
              "      <th>4</th>\n",
              "      <td>3-2012</td>\n",
              "      <td>0.70</td>\n",
              "      <td>35.1</td>\n",
              "      <td>0.30</td>\n",
              "      <td>9.9</td>\n",
              "      <td>3.80</td>\n",
              "      <td>2.6</td>\n",
              "      <td>1.8</td>\n",
              "      <td>0.0</td>\n",
              "      <td>6.70</td>\n",
              "      <td>4.7</td>\n",
              "      <td>0.0</td>\n",
              "      <td>4.7</td>\n",
              "      <td>4.9000</td>\n",
              "      <td>0.35</td>\n",
              "      <td>0.11</td>\n",
              "      <td>5.12</td>\n",
              "      <td>11.9</td>\n",
              "      <td>1.3</td>\n",
              "      <td>9.3200</td>\n",
              "      <td>0.20</td>\n",
              "      <td>1.30</td>\n",
              "      <td>44.4000</td>\n",
              "      <td>1.3</td>\n",
              "      <td>5.8</td>\n",
              "      <td>0.0</td>\n",
              "      <td>0.0</td>\n",
              "      <td>0.0</td>\n",
              "      <td>1.20</td>\n",
              "      <td>4.5</td>\n",
              "      <td>162.00</td>\n",
              "    </tr>\n",
              "  </tbody>\n",
              "</table>\n",
              "</div>"
            ],
            "text/plain": [
              "     Month  Alcatel  Apple  Asus  ...  Wiko  Xiaomi  ZTE  Grand Total\n",
              "0   3-2011     0.02   18.6  0.20  ...   0.0    0.00  1.4       106.80\n",
              "1   6-2011     0.14   20.3  0.25  ...   0.0    0.00  2.5       116.64\n",
              "2   9-2011     0.35   17.1  0.25  ...   0.0    0.08  3.6       127.90\n",
              "3  12-2011     0.55   37.0  0.25  ...   0.0    0.40  5.4       169.56\n",
              "4   3-2012     0.70   35.1  0.30  ...   0.0    1.20  4.5       162.00\n",
              "\n",
              "[5 rows x 31 columns]"
            ]
          },
          "metadata": {
            "tags": []
          },
          "execution_count": 5
        }
      ]
    },
    {
      "cell_type": "code",
      "metadata": {
        "id": "fWhBxFAsriAp",
        "colab": {
          "base_uri": "https://localhost:8080/"
        },
        "outputId": "fc3e5290-c717-4c98-c883-012c241a731c"
      },
      "source": [
        "# Let's drop time index as as we are focusing on features only, not running the regression\n",
        "X_df.drop('Month', axis=1, inplace=True)"
      ],
      "execution_count": 6,
      "outputs": [
        {
          "output_type": "stream",
          "text": [
            "/usr/local/lib/python3.7/dist-packages/pandas/core/frame.py:4174: SettingWithCopyWarning: \n",
            "A value is trying to be set on a copy of a slice from a DataFrame\n",
            "\n",
            "See the caveats in the documentation: https://pandas.pydata.org/pandas-docs/stable/user_guide/indexing.html#returning-a-view-versus-a-copy\n",
            "  errors=errors,\n"
          ],
          "name": "stderr"
        }
      ]
    },
    {
      "cell_type": "code",
      "metadata": {
        "id": "jQP_4-QHPBBp",
        "colab": {
          "base_uri": "https://localhost:8080/"
        },
        "outputId": "8d78a0a3-4f2c-4011-8c6f-0e90dfaf9e03"
      },
      "source": [
        "from sklearn.model_selection import train_test_split\n",
        "# split into train and test sets with 80% percent of the data for training and 20% percent for testing.\n",
        "X_train, X_test, y_train, y_test = train_test_split(X_df, y_df, test_size=0.2, random_state=1)\n",
        "# summarize\n",
        "print('Train', X_train.shape, y_train.shape)\n",
        "print('Test', X_test.shape, y_test.shape)"
      ],
      "execution_count": 7,
      "outputs": [
        {
          "output_type": "stream",
          "text": [
            "Train (29, 30) (29,)\n",
            "Test (8, 30) (8,)\n"
          ],
          "name": "stdout"
        }
      ]
    },
    {
      "cell_type": "markdown",
      "metadata": {
        "id": "L3ZMox5kPslv"
      },
      "source": [
        "**2. Numerical Feature Selection**\n",
        "\n",
        "**2.1 Numerical Feature Selection - Correlation**"
      ]
    },
    {
      "cell_type": "code",
      "metadata": {
        "id": "eF8J5F8iPqtA",
        "colab": {
          "base_uri": "https://localhost:8080/",
          "height": 815
        },
        "outputId": "921164b0-0edc-45d4-e85b-498cda2e7dbc"
      },
      "source": [
        "from sklearn.feature_selection import SelectKBest\n",
        "from sklearn.feature_selection import f_regression\n",
        "from matplotlib import pyplot\n",
        "\n",
        "# wrap feature selection logic in a function - use score_func=f_regression and select all features\n",
        "def select_features_corr(X_train, y_train, X_test):\n",
        "\t# configure to select all features\n",
        "\tfs = SelectKBest(score_func=f_regression, k='all')\n",
        "\t# learn relationship from training data\n",
        "\tfs.fit(X_train, y_train)\n",
        "\t# transform train input data\n",
        "\tX_train_fs = fs.transform(X_train)\n",
        "\t# transform test input data\n",
        "\tX_test_fs = fs.transform(X_test)\n",
        "\treturn X_train_fs, X_test_fs, fs\n",
        "\n",
        "# feature selection using correlation, by default\n",
        "X_train_fs, X_test_fs, fs = select_features_corr(X_train, y_train, X_test)\n",
        "\n",
        "# what are scores for the features (ranging from less than 1 to 101)\n",
        "def show_scores():\n",
        "  for i in range(len(fs.scores_)):\n",
        "\t  print('Feature %d: %f' % (i, fs.scores_[i]))\n",
        "  # plot the scores\n",
        "  pyplot.bar([i for i in range(len(fs.scores_))], fs.scores_)\n",
        "  pyplot.show()\n",
        "\n",
        "show_scores()"
      ],
      "execution_count": 8,
      "outputs": [
        {
          "output_type": "stream",
          "text": [
            "Feature 0: 4.629553\n",
            "Feature 1: 19.392903\n",
            "Feature 2: 24.631010\n",
            "Feature 3: 66.997125\n",
            "Feature 4: 4.814192\n",
            "Feature 5: 39.063048\n",
            "Feature 6: 0.012950\n",
            "Feature 7: 21.346836\n",
            "Feature 8: 99.770387\n",
            "Feature 9: 99.585641\n",
            "Feature 10: 32.951346\n",
            "Feature 11: 3.092807\n",
            "Feature 12: 4.346473\n",
            "Feature 13: 15.555962\n",
            "Feature 14: 1.114579\n",
            "Feature 15: 30.315032\n",
            "Feature 16: 46.791570\n",
            "Feature 17: 82.701354\n",
            "Feature 18: 71.218707\n",
            "Feature 19: 4.129725\n",
            "Feature 20: 40.862592\n",
            "Feature 21: 13.722245\n",
            "Feature 22: 0.658072\n",
            "Feature 23: 10.360216\n",
            "Feature 24: 114.705461\n",
            "Feature 25: 80.100628\n",
            "Feature 26: 17.486004\n",
            "Feature 27: 89.883846\n",
            "Feature 28: 0.276683\n",
            "Feature 29: 82.142735\n"
          ],
          "name": "stdout"
        },
        {
          "output_type": "display_data",
          "data": {
            "image/png": "[encoded data removed]",
            "text/plain": [
              "<Figure size 432x288 with 1 Axes>"
            ]
          },
          "metadata": {
            "tags": [],
            "needs_background": "light"
          }
        }
      ]
    },
    {
      "cell_type": "markdown",
      "metadata": {
        "id": "CIFZIOrKSXeB"
      },
      "source": [
        "**Observation:**\n",
        "\n",
        "* Huawei (9) and Samsung (24) show high scores\n",
        "* Label the x axis or create a mapping dictionary"
      ]
    },
    {
      "cell_type": "markdown",
      "metadata": {
        "id": "u-PooHLLS0Og"
      },
      "source": [
        "**2.2 Numerical Feature Selection - Mutual Information**"
      ]
    },
    {
      "cell_type": "code",
      "metadata": {
        "id": "gvJQQ7uQTMI4",
        "colab": {
          "base_uri": "https://localhost:8080/",
          "height": 810
        },
        "outputId": "8331d10c-d7d9-47a4-e717-d58c8a21f0ac"
      },
      "source": [
        "from sklearn.feature_selection import mutual_info_regression\n",
        "# configure to select all features\n",
        "# feature selection\n",
        "def select_features_mutualinfo(X_train, y_train, X_test):\n",
        "\t# configure to select all features\n",
        "\tfs = SelectKBest(score_func=mutual_info_regression, k='all')\n",
        "\t# learn relationship from training data\n",
        "\tfs.fit(X_train, y_train)\n",
        "\t# transform train input data\n",
        "\tX_train_fs = fs.transform(X_train)\n",
        "\t# transform test input data\n",
        "\tX_test_fs = fs.transform(X_test)\n",
        "\treturn X_train_fs, X_test_fs, fs\n",
        "\n",
        "# feature selection using correlation\n",
        "X_train_fs, X_test_fs, fs = select_features_mutualinfo(X_train, y_train, X_test)\n",
        "\n",
        "show_scores()"
      ],
      "execution_count": 9,
      "outputs": [
        {
          "output_type": "stream",
          "text": [
            "Feature 0: 0.641001\n",
            "Feature 1: 0.366531\n",
            "Feature 2: 0.403142\n",
            "Feature 3: 0.880004\n",
            "Feature 4: 0.551905\n",
            "Feature 5: 0.484067\n",
            "Feature 6: 0.816210\n",
            "Feature 7: 0.408476\n",
            "Feature 8: 0.684725\n",
            "Feature 9: 1.229215\n",
            "Feature 10: 0.451829\n",
            "Feature 11: 0.404547\n",
            "Feature 12: 0.606757\n",
            "Feature 13: 0.663842\n",
            "Feature 14: 0.476937\n",
            "Feature 15: 0.399759\n",
            "Feature 16: 0.746520\n",
            "Feature 17: 0.917360\n",
            "Feature 18: 0.903297\n",
            "Feature 19: 0.281399\n",
            "Feature 20: 0.905281\n",
            "Feature 21: 0.325417\n",
            "Feature 22: 0.000000\n",
            "Feature 23: 0.596646\n",
            "Feature 24: 0.868631\n",
            "Feature 25: 0.932713\n",
            "Feature 26: 0.545113\n",
            "Feature 27: 0.890457\n",
            "Feature 28: 0.489278\n",
            "Feature 29: 0.992173\n"
          ],
          "name": "stdout"
        },
        {
          "output_type": "display_data",
          "data": {
            "image/png": "[encoded data removed]",
            "text/plain": [
              "<Figure size 432x288 with 1 Axes>"
            ]
          },
          "metadata": {
            "tags": [],
            "needs_background": "light"
          }
        }
      ]
    },
    {
      "cell_type": "markdown",
      "metadata": {
        "id": "njUIfqd1_ppy"
      },
      "source": [
        "**Observation:**\n",
        "\n",
        "* Huawei (9) still scores high as important feature\n",
        "\n",
        "\n"
      ]
    },
    {
      "cell_type": "markdown",
      "metadata": {
        "id": "PLCeqErFmdFg"
      },
      "source": [
        "**3. Modeling with Features**\n",
        "\n",
        "**3.1 Using All Features**"
      ]
    },
    {
      "cell_type": "code",
      "metadata": {
        "id": "igYnmN7smlKt",
        "colab": {
          "base_uri": "https://localhost:8080/"
        },
        "outputId": "5282adf5-db09-4d68-902a-c377af6cd216"
      },
      "source": [
        "from sklearn.linear_model import LinearRegression\n",
        "from sklearn.metrics import mean_absolute_error\n",
        "\n",
        "# fit the model\n",
        "model = LinearRegression()\n",
        "model.fit(X_train, y_train)\n",
        "# evaluate the model\n",
        "yhat = model.predict(X_test)\n",
        "# evaluate predictions\n",
        "mae = mean_absolute_error(y_test, yhat)\n",
        "print('MAE: %.3f' % mae)"
      ],
      "execution_count": 10,
      "outputs": [
        {
          "output_type": "stream",
          "text": [
            "MAE: 0.549\n"
          ],
          "name": "stdout"
        }
      ]
    },
    {
      "cell_type": "markdown",
      "metadata": {
        "id": "9l2eWI4n_6LG"
      },
      "source": [
        "**Observation:**\n",
        "\n",
        "* Using all features we get Mean Absolute Error (MAE) of 0.549"
      ]
    },
    {
      "cell_type": "markdown",
      "metadata": {
        "id": "o_6x4AA0q9-W"
      },
      "source": [
        "**4. Tune the Number of Selected Features**"
      ]
    },
    {
      "cell_type": "code",
      "metadata": {
        "id": "EzRp14IlqJ_O",
        "colab": {
          "base_uri": "https://localhost:8080/",
          "height": 628
        },
        "outputId": "9474d0e2-4e0e-44fe-abab-41f41ec4cbbe"
      },
      "source": [
        "from sklearn.pipeline import Pipeline\n",
        "from sklearn.model_selection import GridSearchCV\n",
        "from sklearn.model_selection import RepeatedKFold\n",
        "from sklearn.model_selection import cross_val_score\n",
        "\n",
        "num_features = [i for i in range(X_df.shape[1]-19, X_df.shape[1]+1)]\n",
        "# enumerate each number of features\n",
        "results = list()\n",
        "for k in num_features:\n",
        "\t# create pipeline\n",
        "\tmodel = LinearRegression()\n",
        "\tfs = SelectKBest(score_func=mutual_info_regression, k=k)\n",
        "\tpipeline = Pipeline(steps=[('sel',fs), ('lr', model)])\n",
        "\t# evaluate the model\n",
        "\tcv = RepeatedKFold(n_splits=10, n_repeats=3, random_state=1)\n",
        "\tscores = cross_val_score(pipeline, X_df, y_df, scoring='neg_mean_absolute_error', cv=cv, n_jobs=-1)\n",
        "\tresults.append(scores)\n",
        "\t# summarize the results\n",
        "\tprint('>%d %.3f (%.3f)' % (k, np.mean(scores), np.std(scores)))\n",
        "# plot model performance for comparison\n",
        "pyplot.boxplot(results, labels=num_features, showmeans=True)\n",
        "pyplot.show()"
      ],
      "execution_count": 14,
      "outputs": [
        {
          "output_type": "stream",
          "text": [
            ">11 -0.084 (0.033)\n",
            ">12 -0.084 (0.033)\n",
            ">13 -0.089 (0.033)\n",
            ">14 -0.095 (0.038)\n",
            ">15 -0.102 (0.040)\n",
            ">16 -0.105 (0.039)\n",
            ">17 -0.106 (0.042)\n",
            ">18 -0.112 (0.043)\n",
            ">19 -0.114 (0.043)\n",
            ">20 -0.123 (0.045)\n",
            ">21 -0.130 (0.047)\n",
            ">22 -0.138 (0.048)\n",
            ">23 -0.142 (0.052)\n",
            ">24 -0.148 (0.065)\n",
            ">25 -0.175 (0.099)\n",
            ">26 -0.193 (0.095)\n",
            ">27 -0.219 (0.097)\n",
            ">28 -0.234 (0.113)\n",
            ">29 -0.267 (0.121)\n",
            ">30 -0.305 (0.332)\n"
          ],
          "name": "stdout"
        },
        {
          "output_type": "display_data",
          "data": {
            "image/png": "[encoded data removed]",
            "text/plain": [
              "<Figure size 432x288 with 1 Axes>"
            ]
          },
          "metadata": {
            "tags": [],
            "needs_background": "light"
          }
        }
      ]
    },
    {
      "cell_type": "markdown",
      "metadata": {
        "id": "BOz1u_Vhsw9n"
      },
      "source": [
        "**Resources**\n",
        "\n",
        "* [Rergression Features Selection](https://machinelearningmastery.com/feature-selection-for-regression-data/) by Jason Brownlee"
      ]
    }
  ]
}
{
  "nbformat": 4,
  "nbformat_minor": 0,
  "metadata": {
    "colab": {
      "provenance": [],
      "authorship_tag": "ABX9TyNWEzPS1H8QAp1kCdomZXpD",
      "include_colab_link": true
    },
    "kernelspec": {
      "name": "python3",
      "display_name": "Python 3"
    },
    "language_info": {
      "name": "python"
    }
  },
  "cells": [
    {
      "cell_type": "markdown",
      "metadata": {
        "id": "view-in-github",
        "colab_type": "text"
      },
      "source": [
        "<a href=\"https://colab.research.google.com/github/kaljuvee/datascience/blob/main/notebooks/huggingface/deeplearning_huggingface_chat.ipynb\" target=\"_parent\"><img src=\"https://colab.research.google.com/assets/colab-badge.svg\" alt=\"Open In Colab\"/></a>"
      ]
    },
    {
      "cell_type": "code",
      "execution_count": 1,
      "metadata": {
        "id": "lQ6fERyWDtEP"
      },
      "outputs": [],
      "source": [
        "! pip install -q transformers"
      ]
    },
    {
      "cell_type": "code",
      "source": [
        "from transformers import pipeline\n",
        "\n",
        "chatbot = pipeline(task = 'conversational', model = 'facebook/blenderbot-400M-distill')"
      ],
      "metadata": {
        "id": "9VTaaVMWD2X1"
      },
      "execution_count": 5,
      "outputs": []
    },
    {
      "cell_type": "code",
      "source": [
        "user_message = \"\"\"\n",
        "What are some fun activities I can do in the winter?\n",
        "\"\"\""
      ],
      "metadata": {
        "id": "f_-sUSWdEEXM"
      },
      "execution_count": 6,
      "outputs": []
    },
    {
      "cell_type": "code",
      "source": [
        "from transformers import Conversation\n",
        "\n",
        "conversation = Conversation(user_message)\n",
        "print(conversation)"
      ],
      "metadata": {
        "colab": {
          "base_uri": "https://localhost:8080/"
        },
        "id": "loNLp2KCEMBr",
        "outputId": "5e4085ee-b4a1-47ed-f265-56a65a4f7331"
      },
      "execution_count": 4,
      "outputs": [
        {
          "output_type": "stream",
          "name": "stdout",
          "text": [
            "Conversation id: 32c637a3-546b-40af-b500-2bb9153e87da\n",
            "user: \n",
            "What are some fun activities I can do in the winter\n",
            "\n",
            "\n"
          ]
        }
      ]
    },
    {
      "cell_type": "code",
      "source": [
        "conversation = chatbot(conversation)\n",
        "print(conversation)"
      ],
      "metadata": {
        "colab": {
          "base_uri": "https://localhost:8080/"
        },
        "id": "2q9QAW6MEUuM",
        "outputId": "3bf7b23a-ab6e-43dc-f31b-a91128efc3ba"
      },
      "execution_count": 7,
      "outputs": [
        {
          "output_type": "stream",
          "name": "stderr",
          "text": [
            "\n",
            "No chat template is defined for this tokenizer - using the default template for the BlenderbotTokenizerFast class. If the default is not appropriate for your model, please set `tokenizer.chat_template` to an appropriate template. See https://huggingface.co/docs/transformers/main/chat_templating for more information.\n",
            "\n"
          ]
        },
        {
          "output_type": "stream",
          "name": "stdout",
          "text": [
            "Conversation id: 32c637a3-546b-40af-b500-2bb9153e87da\n",
            "user: \n",
            "What are some fun activities I can do in the winter\n",
            "\n",
            "assistant:  I like to go snowboarding.  It's a lot of fun.  What kind of activities do you like to do?\n",
            "\n"
          ]
        }
      ]
    },
    {
      "cell_type": "code",
      "source": [
        "print(chatbot(Conversation('What else do you recommend?')))"
      ],
      "metadata": {
        "colab": {
          "base_uri": "https://localhost:8080/"
        },
        "id": "GZisbTrpEr47",
        "outputId": "2126c3f8-2417-403f-e3bf-40b677d54f29"
      },
      "execution_count": 8,
      "outputs": [
        {
          "output_type": "stream",
          "name": "stdout",
          "text": [
            "Conversation id: 69c04bbb-07e6-46a8-a168-1782bbdb7150\n",
            "user: What else do you recommend?\n",
            "assistant:  Well, I'm not sure what else I can think of, but I do know that I'm going to miss her.\n",
            "\n"
          ]
        }
      ]
    },
    {
      "cell_type": "code",
      "source": [
        "conversation.add_message({'role': 'user', 'content': \"\"\"\n",
        "Whate else do you recommend?\n",
        "\"\"\"})\n",
        "print(conversation)"
      ],
      "metadata": {
        "colab": {
          "base_uri": "https://localhost:8080/"
        },
        "id": "pFmapy7MFduk",
        "outputId": "d8c34d97-abd9-4ed9-c4b4-948e1f71c889"
      },
      "execution_count": 9,
      "outputs": [
        {
          "output_type": "stream",
          "name": "stdout",
          "text": [
            "Conversation id: 32c637a3-546b-40af-b500-2bb9153e87da\n",
            "user: \n",
            "What are some fun activities I can do in the winter\n",
            "\n",
            "assistant:  I like to go snowboarding.  It's a lot of fun.  What kind of activities do you like to do?\n",
            "user: \n",
            "Whate else do you recommend?\n",
            "\n",
            "\n"
          ]
        }
      ]
    },
    {
      "cell_type": "code",
      "source": [],
      "metadata": {
        "id": "CDKYHZG8GEKU"
      },
      "execution_count": null,
      "outputs": []
    }
  ]
}
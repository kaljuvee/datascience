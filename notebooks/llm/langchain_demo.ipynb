{
  "nbformat": 4,
  "nbformat_minor": 0,
  "metadata": {
    "colab": {
      "provenance": [],
      "authorship_tag": "ABX9TyOamWzND2e4F99rPa3fDhZY",
      "include_colab_link": true
    },
    "kernelspec": {
      "name": "python3",
      "display_name": "Python 3"
    },
    "language_info": {
      "name": "python"
    }
  },
  "cells": [
    {
      "cell_type": "markdown",
      "metadata": {
        "id": "view-in-github",
        "colab_type": "text"
      },
      "source": [
        "<a href=\"https://colab.research.google.com/github/kaljuvee/datascience/blob/main/notebooks/llm/langchain_demo.ipynb\" target=\"_parent\"><img src=\"https://colab.research.google.com/assets/colab-badge.svg\" alt=\"Open In Colab\"/></a>"
      ]
    },
    {
      "cell_type": "code",
      "execution_count": null,
      "metadata": {
        "id": "AaQdXCpDkzCx"
      },
      "outputs": [],
      "source": [
        "!pip3 install openai langchain tweepy chromadb tiktoken\n",
        "from IPython.display import clear_output \n",
        "clear_output()"
      ]
    },
    {
      "cell_type": "code",
      "source": [
        "from langchain.llms import OpenAI\n",
        "import openai\n",
        "import os\n",
        "\n",
        "os.environ[\"OPENAI_API_KEY\"] = ''"
      ],
      "metadata": {
        "id": "Kuhv9pRUlUFl"
      },
      "execution_count": null,
      "outputs": []
    },
    {
      "cell_type": "markdown",
      "source": [
        "# LLMS: Get Predictions from a Large Language Model"
      ],
      "metadata": {
        "id": "u-3W3DDKRTm2"
      }
    },
    {
      "cell_type": "code",
      "source": [
        "llm = OpenAI(temperature=0.9)"
      ],
      "metadata": {
        "id": "PULNVOy3l6ng"
      },
      "execution_count": null,
      "outputs": []
    },
    {
      "cell_type": "code",
      "source": [
        "text = 'What are the some of the top holiday vacation destinations for someohone likes to eat pasta?'\n",
        "print(llm(text))"
      ],
      "metadata": {
        "id": "YlxmT1F9l-He",
        "colab": {
          "base_uri": "https://localhost:8080/"
        },
        "outputId": "e9973b54-d139-440e-82d3-200d9b770eb0"
      },
      "execution_count": null,
      "outputs": [
        {
          "output_type": "stream",
          "name": "stdout",
          "text": [
            "\n",
            "\n",
            "1. Rome, Italy\n",
            "2. Naples, Italy\n",
            "3. Verona, Italy\n",
            "4. Venice, Italy\n",
            "5. Florence, Italy\n",
            "6. Amalfi Coast, Italy\n",
            "7. Milan, Italy\n",
            "8. Sicily, Italy\n",
            "9. Sardinia, Italy\n",
            "10. Lisbon, Portugal\n"
          ]
        }
      ]
    },
    {
      "cell_type": "markdown",
      "source": [
        "# Prompt Templates: Manage Prompts for LLMs"
      ],
      "metadata": {
        "id": "DTVgb09TReXq"
      }
    },
    {
      "cell_type": "code",
      "source": [
        "from langchain.prompts import PromptTemplate\n",
        "\n",
        "prompt = PromptTemplate(\n",
        "    input_variables=['food'],\n",
        "    template = 'What are the top 5 holiday destinations for someone who likes {food}?'\n",
        ")"
      ],
      "metadata": {
        "id": "DMvzIZU0RGq9"
      },
      "execution_count": null,
      "outputs": []
    },
    {
      "cell_type": "code",
      "source": [
        "print(prompt.format(food='desert'))"
      ],
      "metadata": {
        "colab": {
          "base_uri": "https://localhost:8080/"
        },
        "id": "84yw-OmZSX6Q",
        "outputId": "b07d1261-51ba-4f0e-9173-d11ec09fc6b3"
      },
      "execution_count": null,
      "outputs": [
        {
          "output_type": "stream",
          "name": "stdout",
          "text": [
            "What are the top 5 holiday destinations for someone who likes desert?\n"
          ]
        }
      ]
    },
    {
      "cell_type": "code",
      "source": [
        "print(llm(prompt.format(food='desert')))"
      ],
      "metadata": {
        "colab": {
          "base_uri": "https://localhost:8080/"
        },
        "id": "DB0XvaAtStHk",
        "outputId": "7edca56b-4169-4554-9cc8-901f2d253e44"
      },
      "execution_count": null,
      "outputs": [
        {
          "output_type": "stream",
          "name": "stdout",
          "text": [
            "\n",
            "\n",
            "1. Wadi Rum, Jordan\n",
            "2. Sahara Desert, Tunisia\n",
            "3. Dubai, United Arab Emirates\n",
            "4. Atacama Desert, Chile\n",
            "5. Sossusvlei, Namibia\n"
          ]
        }
      ]
    },
    {
      "cell_type": "markdown",
      "source": [
        "# Chains: Combine LLMs and Prompts in Multi-Step Workflows"
      ],
      "metadata": {
        "id": "-6tzT4R1TJIV"
      }
    },
    {
      "cell_type": "code",
      "source": [
        "from langchain.chains import LLMChain\n",
        "\n",
        "chain = LLMChain(llm = llm, prompt = prompt)\n",
        "print(chain.run('food'))"
      ],
      "metadata": {
        "colab": {
          "base_uri": "https://localhost:8080/"
        },
        "id": "sCEe7Gr4S8m-",
        "outputId": "b30ee153-b5be-4902-b964-b82ff574afc3"
      },
      "execution_count": null,
      "outputs": [
        {
          "output_type": "stream",
          "name": "stdout",
          "text": [
            "\n",
            "\n",
            "1. Italy\n",
            "2. France\n",
            "3. Spain\n",
            "4. Japan \n",
            "5. Thailand\n"
          ]
        }
      ]
    },
    {
      "cell_type": "markdown",
      "source": [
        "# Agents: Dynamically Call Chains Based on User Input"
      ],
      "metadata": {
        "id": "y6cm9vYYVbzq"
      }
    },
    {
      "cell_type": "markdown",
      "source": [],
      "metadata": {
        "id": "lIhDzQB-Vim-"
      }
    },
    {
      "cell_type": "code",
      "source": [],
      "metadata": {
        "id": "9HUNBt-5VTC9"
      },
      "execution_count": null,
      "outputs": []
    }
  ]
}
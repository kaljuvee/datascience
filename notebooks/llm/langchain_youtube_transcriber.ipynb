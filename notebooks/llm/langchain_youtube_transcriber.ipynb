{
  "nbformat": 4,
  "nbformat_minor": 0,
  "metadata": {
    "colab": {
      "provenance": [],
      "include_colab_link": true
    },
    "kernelspec": {
      "name": "python3",
      "display_name": "Python 3"
    },
    "language_info": {
      "name": "python"
    }
  },
  "cells": [
    {
      "cell_type": "markdown",
      "metadata": {
        "id": "view-in-github",
        "colab_type": "text"
      },
      "source": [
        "<a href=\"https://colab.research.google.com/github/kaljuvee/datascience/blob/main/notebooks/llm/langchain_youtube_transcriber.ipynb\" target=\"_parent\"><img src=\"https://colab.research.google.com/assets/colab-badge.svg\" alt=\"Open In Colab\"/></a>"
      ]
    },
    {
      "cell_type": "code",
      "execution_count": null,
      "metadata": {
        "id": "EJyeirwlyDwt"
      },
      "outputs": [],
      "source": [
        "#@markdown Installs\n",
        "!pip3 install openai langchain youtube_transcript_api chromadb tiktoken\n",
        "from IPython.display import clear_output\n",
        "clear_output()"
      ]
    },
    {
      "cell_type": "code",
      "source": [
        "\n",
        "#@markdown imports\n",
        "import openai\n",
        "import os\n",
        "from langchain.document_loaders import YoutubeLoader\n",
        "from langchain.vectorstores import Chroma\n",
        "from langchain.embeddings.openai import OpenAIEmbeddings\n",
        "from langchain.chat_models import ChatOpenAI\n",
        "from langchain.chains import RetrievalQA\n",
        "os.environ[\"OPENAI_API_KEY\"] = ''"
      ],
      "metadata": {
        "id": "jzu5MTS0yLop"
      },
      "execution_count": null,
      "outputs": []
    },
    {
      "cell_type": "markdown",
      "source": [
        "# References\n",
        "\n",
        "* https://www.mlq.ai/gpt-3-document-assistant-langchain/\n",
        "* https://python.langchain.com/en/latest/modules/indexes/document_loaders.html\n",
        "* https://replicate.com/openai/whisper\n",
        "* https://python.langchain.com/en/latest/modules/chains/examples/api.html\n"
      ],
      "metadata": {
        "id": "Z35POt-eJ3cj"
      }
    },
    {
      "cell_type": "code",
      "source": [
        "#@title interesting part\n",
        "YT_video = \"Ff4fRgnuFgQ\" #@param [\"\"] {allow-input: true}\n",
        "#Load documents (or transcribe) with YoutubeLoader\n",
        "loader = YoutubeLoader(video_id=YT_video, language=\"en\")  #mINN4M7gNAE\n",
        "yt_docs = loader.load_and_split()\n",
        "embeddings = OpenAIEmbeddings()\n",
        "yt_docsearch = Chroma.from_documents(yt_docs, embeddings)\n",
        "\n",
        "# Define LLM\n",
        "llm = ChatOpenAI(model_name=\"gpt-3.5-turbo\", temperature=0.9)\n",
        "\n",
        "qa_yt = RetrievalQA.from_chain_type(llm=llm,\n",
        "                                    chain_type=\"stuff\",\n",
        "                                    retriever=yt_docsearch.as_retriever())"
      ],
      "metadata": {
        "id": "ckQhiB7hyP3c"
      },
      "execution_count": null,
      "outputs": []
    },
    {
      "cell_type": "code",
      "source": [
        "query = \"Why does Markus Zuckeberg like martial arts?\"\n",
        "qa_yt.run(query)"
      ],
      "metadata": {
        "colab": {
          "base_uri": "https://localhost:8080/",
          "height": 70
        },
        "id": "hkHQWCEU1sx4",
        "outputId": "d86f2d3e-c9c9-40a6-bb34-d7331cc4c383"
      },
      "execution_count": null,
      "outputs": [
        {
          "output_type": "execute_result",
          "data": {
            "text/plain": [
              "'Mark Zuckerberg enjoys martial arts because he finds it to be a competitive activity that requires his full attention. He believes that participating in sports that demand focus is important for his mental health and helps him stay focused in other areas of his life. Additionally, he appreciates the physical aspects of martial arts and the opportunity to train with his friends.'"
            ],
            "application/vnd.google.colaboratory.intrinsic+json": {
              "type": "string"
            }
          },
          "metadata": {},
          "execution_count": 8
        }
      ]
    },
    {
      "cell_type": "code",
      "source": [],
      "metadata": {
        "id": "4eAQ3bEnh7AK"
      },
      "execution_count": null,
      "outputs": []
    }
  ]
}